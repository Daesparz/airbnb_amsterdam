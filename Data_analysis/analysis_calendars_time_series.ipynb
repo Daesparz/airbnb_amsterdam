{
 "cells": [
  {
   "cell_type": "markdown",
   "metadata": {},
   "source": [
    "# Amsterdam: SQL queries, times series, reviews, verifications and licenses "
   ]
  },
  {
   "cell_type": "markdown",
   "metadata": {},
   "source": [
    "Let's import useful packages:"
   ]
  },
  {
   "cell_type": "code",
   "execution_count": 1,
   "metadata": {},
   "outputs": [],
   "source": [
    "import gzip\n",
    "import json\n",
    "import csv\n",
    "import sqlite3\n",
    "import pandas as pd\n",
    "import numpy as np\n",
    "from scipy import stats"
   ]
  },
  {
   "cell_type": "markdown",
   "metadata": {},
   "source": [
    "Visualization tools:"
   ]
  },
  {
   "cell_type": "code",
   "execution_count": 2,
   "metadata": {},
   "outputs": [],
   "source": [
    "import seaborn as sns\n",
    "import matplotlib.pyplot as plt\n",
    "import folium"
   ]
  },
  {
   "cell_type": "code",
   "execution_count": 3,
   "metadata": {},
   "outputs": [],
   "source": [
    "import sys\n",
    "# !{sys.executable} -m pip install -U folium"
   ]
  },
  {
   "cell_type": "markdown",
   "metadata": {},
   "source": [
    "In this last analysis, we create a database in Python using *sqlite3* importing a DataFrame using Pandas. The step 1 is create a database called BookingsDB."
   ]
  },
  {
   "cell_type": "code",
   "execution_count": 4,
   "metadata": {},
   "outputs": [],
   "source": [
    "conn = sqlite3.connect('../Data/database/BookingsDB.db') "
   ]
  },
  {
   "cell_type": "code",
   "execution_count": 5,
   "metadata": {},
   "outputs": [],
   "source": [
    "c = conn.cursor()"
   ]
  },
  {
   "cell_type": "code",
   "execution_count": 6,
   "metadata": {},
   "outputs": [],
   "source": [
    "read_listing = pd.read_csv('../Data/raw/listings.csv.gz', \n",
    "                      compression='gzip',\n",
    "                      error_bad_lines=False, \n",
    "                      low_memory=False)"
   ]
  },
  {
   "cell_type": "code",
   "execution_count": 7,
   "metadata": {},
   "outputs": [
    {
     "data": {
      "text/plain": [
       "Index(['id', 'listing_url', 'scrape_id', 'last_scraped', 'name', 'summary',\n",
       "       'space', 'description', 'experiences_offered', 'neighborhood_overview',\n",
       "       ...\n",
       "       'instant_bookable', 'is_business_travel_ready', 'cancellation_policy',\n",
       "       'require_guest_profile_picture', 'require_guest_phone_verification',\n",
       "       'calculated_host_listings_count',\n",
       "       'calculated_host_listings_count_entire_homes',\n",
       "       'calculated_host_listings_count_private_rooms',\n",
       "       'calculated_host_listings_count_shared_rooms', 'reviews_per_month'],\n",
       "      dtype='object', length=106)"
      ]
     },
     "execution_count": 7,
     "metadata": {},
     "output_type": "execute_result"
    }
   ],
   "source": [
    "read_listing.columns"
   ]
  },
  {
   "cell_type": "code",
   "execution_count": 8,
   "metadata": {},
   "outputs": [
    {
     "data": {
      "text/html": [
       "<div>\n",
       "<style scoped>\n",
       "    .dataframe tbody tr th:only-of-type {\n",
       "        vertical-align: middle;\n",
       "    }\n",
       "\n",
       "    .dataframe tbody tr th {\n",
       "        vertical-align: top;\n",
       "    }\n",
       "\n",
       "    .dataframe thead th {\n",
       "        text-align: right;\n",
       "    }\n",
       "</style>\n",
       "<table border=\"1\" class=\"dataframe\">\n",
       "  <thead>\n",
       "    <tr style=\"text-align: right;\">\n",
       "      <th></th>\n",
       "      <th>calendar_updated</th>\n",
       "      <th>has_availability</th>\n",
       "      <th>availability_30</th>\n",
       "      <th>availability_60</th>\n",
       "      <th>availability_90</th>\n",
       "      <th>availability_365</th>\n",
       "      <th>calendar_last_scraped</th>\n",
       "    </tr>\n",
       "  </thead>\n",
       "  <tbody>\n",
       "    <tr>\n",
       "      <th>0</th>\n",
       "      <td>2 months ago</td>\n",
       "      <td>t</td>\n",
       "      <td>0</td>\n",
       "      <td>0</td>\n",
       "      <td>0</td>\n",
       "      <td>0</td>\n",
       "      <td>2019-12-08</td>\n",
       "    </tr>\n",
       "    <tr>\n",
       "      <th>1</th>\n",
       "      <td>yesterday</td>\n",
       "      <td>t</td>\n",
       "      <td>4</td>\n",
       "      <td>21</td>\n",
       "      <td>51</td>\n",
       "      <td>198</td>\n",
       "      <td>2019-12-08</td>\n",
       "    </tr>\n",
       "  </tbody>\n",
       "</table>\n",
       "</div>"
      ],
      "text/plain": [
       "  calendar_updated has_availability  availability_30  availability_60  \\\n",
       "0     2 months ago                t                0                0   \n",
       "1        yesterday                t                4               21   \n",
       "\n",
       "   availability_90  availability_365 calendar_last_scraped  \n",
       "0                0                 0            2019-12-08  \n",
       "1               51               198            2019-12-08  "
      ]
     },
     "execution_count": 8,
     "metadata": {},
     "output_type": "execute_result"
    }
   ],
   "source": [
    "read_listing.loc[:, 'calendar_updated': 'calendar_last_scraped'].head(2)"
   ]
  },
  {
   "cell_type": "code",
   "execution_count": 9,
   "metadata": {},
   "outputs": [],
   "source": [
    "read_listing.to_sql('LISTINGS', conn, if_exists='append', index = False) # Insert the values from the csv file into the table 'CLIENTS' "
   ]
  },
  {
   "cell_type": "code",
   "execution_count": 10,
   "metadata": {},
   "outputs": [
    {
     "data": {
      "text/plain": [
       "<sqlite3.Cursor at 0x1a14e4d880>"
      ]
     },
     "execution_count": 10,
     "metadata": {},
     "output_type": "execute_result"
    }
   ],
   "source": [
    "c.execute('''\n",
    "        SELECT availability_30, COUNT(*) \n",
    "        FROM LISTINGS \n",
    "        GROUP BY availability_30\n",
    "        ORDER BY availability_30\n",
    "''')"
   ]
  },
  {
   "cell_type": "code",
   "execution_count": 11,
   "metadata": {},
   "outputs": [
    {
     "name": "stdout",
     "output_type": "stream",
     "text": [
      "AVAILABLE DAYS IN THE NEXT 30 DAYS \n",
      "----------------------------------\n",
      "63120 listings availables 0 days\n",
      "1985 listings availables 5 days\n",
      "1465 listings availables 10 days\n",
      "1005 listings availables 15 days\n",
      "835 listings availables 20 days\n",
      "625 listings availables 25 days\n",
      "995 listings availables 30 days\n"
     ]
    }
   ],
   "source": [
    "print('AVAILABLE DAYS IN THE NEXT 30 DAYS \\n----------------------------------')\n",
    "for i in c.fetchall():\n",
    "    if i[0]%5 == 0:\n",
    "        print(str(i[1]) + ' listings availables ' + str(i[0]) + ' days')"
   ]
  },
  {
   "cell_type": "code",
   "execution_count": 12,
   "metadata": {},
   "outputs": [
    {
     "data": {
      "image/png": "[encoded data removed]",
      "text/plain": [
       "<Figure size 396x396 with 1 Axes>"
      ]
     },
     "metadata": {
      "needs_background": "light"
     },
     "output_type": "display_data"
    }
   ],
   "source": [
    "_ = plt.figure(figsize=(5.5, 5.5))\n",
    "_ = plt.yscale('log')\n",
    "_ = plt.hist(read_listing.availability_30.dropna(), bins=31, alpha=0.5, facecolor='steelblue')\n",
    "_ = plt.xlabel('Availability 30 days', size=12)\n",
    "_ = plt.ylabel('Number of listings', size=12)\n",
    "_ = plt.title('Histogram availability in the next 30 days', size=14)\n",
    "# _ = plt.xlim(-0.5, 5.5)"
   ]
  },
  {
   "cell_type": "code",
   "execution_count": 13,
   "metadata": {},
   "outputs": [
    {
     "data": {
      "text/plain": [
       "<sqlite3.Cursor at 0x1a14e4d880>"
      ]
     },
     "execution_count": 13,
     "metadata": {},
     "output_type": "execute_result"
    }
   ],
   "source": [
    "c.execute('''\n",
    "        SELECT availability_60, COUNT(*) \n",
    "        FROM LISTINGS \n",
    "        GROUP BY availability_60\n",
    "        ORDER BY availability_60\n",
    "''')"
   ]
  },
  {
   "cell_type": "code",
   "execution_count": 14,
   "metadata": {},
   "outputs": [
    {
     "name": "stdout",
     "output_type": "stream",
     "text": [
      "AVAILABLE DAYS IN THE NEXT 60 DAYS \n",
      "----------------------------------\n",
      "60180 listings availables 0 days\n",
      "1045 listings availables 10 days\n",
      "565 listings availables 20 days\n",
      "420 listings availables 30 days\n",
      "485 listings availables 40 days\n",
      "450 listings availables 50 days\n",
      "875 listings availables 60 days\n"
     ]
    }
   ],
   "source": [
    "print('AVAILABLE DAYS IN THE NEXT 60 DAYS \\n----------------------------------')\n",
    "for i in c.fetchall():\n",
    "    if i[0]%10 == 0:\n",
    "        print(str(i[1]) + ' listings availables ' + str(i[0]) + ' days')"
   ]
  },
  {
   "cell_type": "code",
   "execution_count": 15,
   "metadata": {},
   "outputs": [
    {
     "data": {
      "image/png": "[encoded data removed]",
      "text/plain": [
       "<Figure size 540x396 with 1 Axes>"
      ]
     },
     "metadata": {
      "needs_background": "light"
     },
     "output_type": "display_data"
    }
   ],
   "source": [
    "_ = plt.figure(figsize=(7.5, 5.5))\n",
    "_ = plt.yscale('log')\n",
    "_ = plt.hist(read_listing.availability_60.dropna(), bins=61, alpha=0.5, facecolor='mediumaquamarine')\n",
    "_ = plt.xlabel('Availability 60 days', size=12)\n",
    "_ = plt.ylabel('Number of listings', size=12)\n",
    "_ = plt.title('Histogram availability in the next 60 days', size=14)"
   ]
  },
  {
   "cell_type": "code",
   "execution_count": 16,
   "metadata": {},
   "outputs": [
    {
     "data": {
      "text/plain": [
       "<sqlite3.Cursor at 0x1a14e4d880>"
      ]
     },
     "execution_count": 16,
     "metadata": {},
     "output_type": "execute_result"
    }
   ],
   "source": [
    "c.execute('''\n",
    "        SELECT availability_90, COUNT(*) \n",
    "        FROM LISTINGS \n",
    "        GROUP BY availability_90\n",
    "        ORDER BY availability_90\n",
    "''')"
   ]
  },
  {
   "cell_type": "code",
   "execution_count": 17,
   "metadata": {},
   "outputs": [
    {
     "name": "stdout",
     "output_type": "stream",
     "text": [
      "AVAILABLE DAYS IN THE NEXT 90 DAYS \n",
      "----------------------------------\n",
      "58275 listings availables 0 days\n",
      "895 listings availables 10 days\n",
      "535 listings availables 20 days\n",
      "270 listings availables 30 days\n",
      "255 listings availables 40 days\n",
      "230 listings availables 50 days\n",
      "295 listings availables 60 days\n",
      "335 listings availables 70 days\n",
      "365 listings availables 80 days\n",
      "830 listings availables 90 days\n"
     ]
    }
   ],
   "source": [
    "print('AVAILABLE DAYS IN THE NEXT 90 DAYS \\n----------------------------------')\n",
    "for i in c.fetchall():\n",
    "    if i[0]%10 == 0:\n",
    "        print(str(i[1]) + ' listings availables ' + str(i[0]) + ' days')"
   ]
  },
  {
   "cell_type": "code",
   "execution_count": 18,
   "metadata": {},
   "outputs": [
    {
     "data": {
      "image/png": "[encoded data removed]",
      "text/plain": [
       "<Figure size 684x396 with 1 Axes>"
      ]
     },
     "metadata": {
      "needs_background": "light"
     },
     "output_type": "display_data"
    }
   ],
   "source": [
    "_ = plt.figure(figsize=(9.5, 5.5))\n",
    "_ = plt.yscale('log')\n",
    "_ = plt.hist(read_listing.availability_90.dropna(), bins=91, alpha=0.5, facecolor='slateblue')\n",
    "_ = plt.xlabel('Availability 90 days', size=12)\n",
    "_ = plt.ylabel('Number of listings', size=12)\n",
    "_ = plt.title('Histogram availability in the next 90 days', size=14)\n",
    "# _ = plt.xlim(-0.5, 5.5)"
   ]
  },
  {
   "cell_type": "markdown",
   "metadata": {},
   "source": [
    "A brief inspection of columns enable us to split them according to the following **different categories of information**:\n",
    "\n",
    "1. **General information of booking**: id, name, summary, description, space, experiences_offered, neighborhood overview, notes, transit, access, interaction, house_rules. To access that, select columns from `id` to `house_rules`.\n",
    "\n",
    "2. **Host information**: id, name, location, about, response time, response rate, acceptance rate, listings count, verifications. In this case, select columns from `host_id` to `host_identity_verified`.\n",
    "\n",
    "3. All about the **neighborhood**: city, state, market, cleansed. Extract this information selecting columns from `street` to `is_location_exact`.\n",
    "\n",
    "4. Details of **property and conditions** are between the columns `property_type` and `maximum_nights_avg_ntm`.\n",
    "\n",
    "5. **Calendar updates and availability** the next 30, 60 and 90 days, for instances. You can find this information between the columns `calendar_updated` and `calendar_last_scraped`.\n",
    "\n",
    "6. **Reviews**: first and last review, number of reviews, scores rating, scores per accuracy, cleanliness, checkin, communication, location and value. Columns from `number of reviews` to `review_scores_value`.\n",
    "\n",
    "7. **Verifications and licenses**: require guest profile picture, phone verification, cancellation policy, instant bookeable. Columns from `requires_license` to `require_guest_phone_verification`.\n",
    "\n",
    "8. **Host listings counts** and reviews per month. Select from `calculated_host_listings_count` to `reviews_per_month`."
   ]
  },
  {
   "cell_type": "markdown",
   "metadata": {},
   "source": [
    "### Which neighborhoods have more and less availability in the next three months?"
   ]
  },
  {
   "cell_type": "markdown",
   "metadata": {},
   "source": [
    "1. Filtering listings without availability. Check `has_avalability`.\n",
    "2. Filtering listings without recent updates in their calendars. Check `calendar_updated`.\n",
    "3. Analyze the availability in the next 30, 60 and 90 days in every booking. "
   ]
  },
  {
   "cell_type": "code",
   "execution_count": 19,
   "metadata": {},
   "outputs": [],
   "source": [
    "df_calendar = read_listing.loc[:, 'calendar_updated': 'calendar_last_scraped']"
   ]
  },
  {
   "cell_type": "code",
   "execution_count": 20,
   "metadata": {},
   "outputs": [],
   "source": [
    "df_id = read_listing.loc[:, ['id', 'neighbourhood_cleansed']]"
   ]
  },
  {
   "cell_type": "code",
   "execution_count": 21,
   "metadata": {},
   "outputs": [],
   "source": [
    "calendar_id = pd.concat([df_id, df_calendar,], axis=1, sort=False)"
   ]
  },
  {
   "cell_type": "code",
   "execution_count": 22,
   "metadata": {},
   "outputs": [
    {
     "data": {
      "text/html": [
       "<div>\n",
       "<style scoped>\n",
       "    .dataframe tbody tr th:only-of-type {\n",
       "        vertical-align: middle;\n",
       "    }\n",
       "\n",
       "    .dataframe tbody tr th {\n",
       "        vertical-align: top;\n",
       "    }\n",
       "\n",
       "    .dataframe thead th {\n",
       "        text-align: right;\n",
       "    }\n",
       "</style>\n",
       "<table border=\"1\" class=\"dataframe\">\n",
       "  <thead>\n",
       "    <tr style=\"text-align: right;\">\n",
       "      <th></th>\n",
       "      <th>id</th>\n",
       "      <th>neighbourhood_cleansed</th>\n",
       "      <th>calendar_updated</th>\n",
       "      <th>has_availability</th>\n",
       "      <th>availability_30</th>\n",
       "      <th>availability_60</th>\n",
       "      <th>availability_90</th>\n",
       "      <th>availability_365</th>\n",
       "      <th>calendar_last_scraped</th>\n",
       "    </tr>\n",
       "  </thead>\n",
       "  <tbody>\n",
       "    <tr>\n",
       "      <th>0</th>\n",
       "      <td>2818</td>\n",
       "      <td>Oostelijk Havengebied - Indische Buurt</td>\n",
       "      <td>2 months ago</td>\n",
       "      <td>t</td>\n",
       "      <td>0</td>\n",
       "      <td>0</td>\n",
       "      <td>0</td>\n",
       "      <td>0</td>\n",
       "      <td>2019-12-08</td>\n",
       "    </tr>\n",
       "    <tr>\n",
       "      <th>1</th>\n",
       "      <td>20168</td>\n",
       "      <td>Centrum-Oost</td>\n",
       "      <td>yesterday</td>\n",
       "      <td>t</td>\n",
       "      <td>4</td>\n",
       "      <td>21</td>\n",
       "      <td>51</td>\n",
       "      <td>198</td>\n",
       "      <td>2019-12-08</td>\n",
       "    </tr>\n",
       "    <tr>\n",
       "      <th>2</th>\n",
       "      <td>25428</td>\n",
       "      <td>Centrum-West</td>\n",
       "      <td>3 months ago</td>\n",
       "      <td>t</td>\n",
       "      <td>2</td>\n",
       "      <td>26</td>\n",
       "      <td>26</td>\n",
       "      <td>71</td>\n",
       "      <td>2019-12-08</td>\n",
       "    </tr>\n",
       "    <tr>\n",
       "      <th>3</th>\n",
       "      <td>27886</td>\n",
       "      <td>Centrum-West</td>\n",
       "      <td>yesterday</td>\n",
       "      <td>t</td>\n",
       "      <td>16</td>\n",
       "      <td>43</td>\n",
       "      <td>69</td>\n",
       "      <td>251</td>\n",
       "      <td>2019-12-08</td>\n",
       "    </tr>\n",
       "    <tr>\n",
       "      <th>4</th>\n",
       "      <td>28871</td>\n",
       "      <td>Centrum-West</td>\n",
       "      <td>4 months ago</td>\n",
       "      <td>t</td>\n",
       "      <td>0</td>\n",
       "      <td>2</td>\n",
       "      <td>10</td>\n",
       "      <td>134</td>\n",
       "      <td>2019-12-08</td>\n",
       "    </tr>\n",
       "  </tbody>\n",
       "</table>\n",
       "</div>"
      ],
      "text/plain": [
       "      id                  neighbourhood_cleansed calendar_updated  \\\n",
       "0   2818  Oostelijk Havengebied - Indische Buurt     2 months ago   \n",
       "1  20168                            Centrum-Oost        yesterday   \n",
       "2  25428                            Centrum-West     3 months ago   \n",
       "3  27886                            Centrum-West        yesterday   \n",
       "4  28871                            Centrum-West     4 months ago   \n",
       "\n",
       "  has_availability  availability_30  availability_60  availability_90  \\\n",
       "0                t                0                0                0   \n",
       "1                t                4               21               51   \n",
       "2                t                2               26               26   \n",
       "3                t               16               43               69   \n",
       "4                t                0                2               10   \n",
       "\n",
       "   availability_365 calendar_last_scraped  \n",
       "0                 0            2019-12-08  \n",
       "1               198            2019-12-08  \n",
       "2                71            2019-12-08  \n",
       "3               251            2019-12-08  \n",
       "4               134            2019-12-08  "
      ]
     },
     "execution_count": 22,
     "metadata": {},
     "output_type": "execute_result"
    }
   ],
   "source": [
    "calendar_id.head()"
   ]
  },
  {
   "cell_type": "markdown",
   "metadata": {},
   "source": [
    "#### 1. Filtering listings without availability\n",
    "\n",
    "According to the below result, all bookings are valid to include in the analysis:"
   ]
  },
  {
   "cell_type": "code",
   "execution_count": 23,
   "metadata": {},
   "outputs": [
    {
     "data": {
      "text/html": [
       "<div>\n",
       "<style scoped>\n",
       "    .dataframe tbody tr th:only-of-type {\n",
       "        vertical-align: middle;\n",
       "    }\n",
       "\n",
       "    .dataframe tbody tr th {\n",
       "        vertical-align: top;\n",
       "    }\n",
       "\n",
       "    .dataframe thead th {\n",
       "        text-align: right;\n",
       "    }\n",
       "</style>\n",
       "<table border=\"1\" class=\"dataframe\">\n",
       "  <thead>\n",
       "    <tr style=\"text-align: right;\">\n",
       "      <th></th>\n",
       "      <th>id</th>\n",
       "      <th>neighbourhood_cleansed</th>\n",
       "      <th>calendar_updated</th>\n",
       "      <th>availability_30</th>\n",
       "      <th>availability_60</th>\n",
       "      <th>availability_90</th>\n",
       "      <th>availability_365</th>\n",
       "      <th>calendar_last_scraped</th>\n",
       "    </tr>\n",
       "    <tr>\n",
       "      <th>has_availability</th>\n",
       "      <th></th>\n",
       "      <th></th>\n",
       "      <th></th>\n",
       "      <th></th>\n",
       "      <th></th>\n",
       "      <th></th>\n",
       "      <th></th>\n",
       "      <th></th>\n",
       "    </tr>\n",
       "  </thead>\n",
       "  <tbody>\n",
       "    <tr>\n",
       "      <th>t</th>\n",
       "      <td>20025</td>\n",
       "      <td>20025</td>\n",
       "      <td>20025</td>\n",
       "      <td>20025</td>\n",
       "      <td>20025</td>\n",
       "      <td>20025</td>\n",
       "      <td>20025</td>\n",
       "      <td>20025</td>\n",
       "    </tr>\n",
       "  </tbody>\n",
       "</table>\n",
       "</div>"
      ],
      "text/plain": [
       "                     id  neighbourhood_cleansed  calendar_updated  \\\n",
       "has_availability                                                    \n",
       "t                 20025                   20025             20025   \n",
       "\n",
       "                  availability_30  availability_60  availability_90  \\\n",
       "has_availability                                                      \n",
       "t                           20025            20025            20025   \n",
       "\n",
       "                  availability_365  calendar_last_scraped  \n",
       "has_availability                                           \n",
       "t                            20025                  20025  "
      ]
     },
     "execution_count": 23,
     "metadata": {},
     "output_type": "execute_result"
    }
   ],
   "source": [
    "calendar_id.groupby('has_availability').count()"
   ]
  },
  {
   "cell_type": "markdown",
   "metadata": {},
   "source": [
    "#### 2. Filtering listings without recent updates in their calendars\n",
    "\n",
    "\n",
    "Firstly, we check all the possible strings in `calendar_updated` column:"
   ]
  },
  {
   "cell_type": "code",
   "execution_count": 24,
   "metadata": {},
   "outputs": [
    {
     "data": {
      "text/plain": [
       "array(['2 months ago', 'yesterday', '3 months ago', '4 months ago',\n",
       "       '12 months ago', '2 weeks ago', '6 days ago', '1 week ago',\n",
       "       '24 months ago', 'today', '3 weeks ago', 'a week ago',\n",
       "       '4 weeks ago', '14 months ago', '9 months ago', '5 weeks ago',\n",
       "       '26 months ago', '4 days ago', '5 months ago', '3 days ago',\n",
       "       '5 days ago', '19 months ago', '6 weeks ago', '27 months ago',\n",
       "       '7 weeks ago', '6 months ago', '10 months ago', '7 months ago',\n",
       "       '37 months ago', '35 months ago', '28 months ago', '8 months ago',\n",
       "       '15 months ago', '20 months ago', '45 months ago', '34 months ago',\n",
       "       '21 months ago', '18 months ago', '17 months ago', '13 months ago',\n",
       "       'never', '25 months ago', '29 months ago', '16 months ago',\n",
       "       '2 days ago', '22 months ago', '54 months ago', '48 months ago',\n",
       "       '46 months ago', '40 months ago', '43 months ago', '47 months ago',\n",
       "       '31 months ago', '32 months ago', '39 months ago', '23 months ago',\n",
       "       '33 months ago', '41 months ago', '30 months ago', '36 months ago',\n",
       "       '11 months ago', '49 months ago', '42 months ago', '38 months ago',\n",
       "       '53 months ago', '63 months ago', '50 months ago', '55 months ago',\n",
       "       '57 months ago', '44 months ago', '52 months ago', '67 months ago',\n",
       "       '61 months ago', '62 months ago', '51 months ago', '60 months ago',\n",
       "       '59 months ago', '56 months ago'], dtype=object)"
      ]
     },
     "execution_count": 24,
     "metadata": {},
     "output_type": "execute_result"
    }
   ],
   "source": [
    "calendar_id.calendar_updated.unique()"
   ]
  },
  {
   "cell_type": "markdown",
   "metadata": {},
   "source": [
    "Using this information, the method `updated_days ago` is created to replace the strings for numerical values:"
   ]
  },
  {
   "cell_type": "code",
   "execution_count": 25,
   "metadata": {},
   "outputs": [],
   "source": [
    "def updated_days_ago(calendar_updated):\n",
    "    \"\"\"\n",
    "    Transformation of the string expressions from the calendar_updated column in numerical days,\n",
    "    considering that every month has 30 days and the inputs 'today' and 'yesterday' means 0 and 1 days \n",
    "    ago respectively. For instances, '1 week ago' is replaced by 7 days and '2 months ago' is 60 days.\n",
    "    \"\"\"\n",
    "    if calendar_updated == 'today':\n",
    "        days_ago = 0\n",
    "    elif calendar_updated == 'yesterday':\n",
    "          days_ago = 1\n",
    "    elif calendar_updated == 'a week ago':\n",
    "          days_ago = 7\n",
    "    else:\n",
    "        string = calendar_updated.split(' ')\n",
    "        if len(string) > 1:\n",
    "            scale = string[1]\n",
    "            value = string[0]\n",
    "\n",
    "            if scale.startswith('day'):\n",
    "                if value.isnumeric():\n",
    "                    days_ago = float(value)\n",
    "                else:\n",
    "                    days_ago = np.nan\n",
    "            elif scale.startswith('week'):\n",
    "                if value.isnumeric():\n",
    "                    days_ago = float(value)*7\n",
    "                else:\n",
    "                    days_ago = np.nan\n",
    "            elif scale.startswith('month'):\n",
    "                if value.isnumeric():\n",
    "                    days_ago = float(value)*30\n",
    "                else:\n",
    "                    days_ago = np.nan\n",
    "        else:\n",
    "            days_ago = np.nan\n",
    "            \n",
    "            \n",
    "    return days_ago"
   ]
  },
  {
   "cell_type": "code",
   "execution_count": 26,
   "metadata": {},
   "outputs": [],
   "source": [
    "calendar_id['updated'] = calendar_id.calendar_updated.apply(updated_days_ago)"
   ]
  },
  {
   "cell_type": "markdown",
   "metadata": {},
   "source": [
    "Displaying the calendar updated boxplot to detect outliers visually:"
   ]
  },
  {
   "cell_type": "code",
   "execution_count": 27,
   "metadata": {},
   "outputs": [
    {
     "data": {
      "image/png": "[encoded data removed]",
      "text/plain": [
       "<Figure size 432x288 with 1 Axes>"
      ]
     },
     "metadata": {
      "needs_background": "light"
     },
     "output_type": "display_data"
    }
   ],
   "source": [
    "_ = sns.boxplot(calendar_id.updated, color='mediumaquamarine')\n",
    "_ = plt.xlabel('Days ago', size=12)\n",
    "_ = plt.title('Boxplot Calendar updated', size=14)"
   ]
  },
  {
   "cell_type": "markdown",
   "metadata": {},
   "source": [
    "The result indicates that a concentration of updates in calendar **between 0 days and 1 year ago**. Therefore, the belated listings are removed in the next analysis."
   ]
  },
  {
   "cell_type": "code",
   "execution_count": 28,
   "metadata": {},
   "outputs": [],
   "source": [
    "recent_updates = calendar_id[calendar_id['updated'] <= 365]"
   ]
  },
  {
   "cell_type": "markdown",
   "metadata": {},
   "source": [
    "#### 3. Analyze the availability in the next 30, 60 and 90 days in every neighborhood"
   ]
  },
  {
   "cell_type": "code",
   "execution_count": 29,
   "metadata": {},
   "outputs": [
    {
     "name": "stderr",
     "output_type": "stream",
     "text": [
      "/Users/daniela/anaconda3/lib/python3.7/site-packages/pandas/core/indexing.py:362: SettingWithCopyWarning: \n",
      "A value is trying to be set on a copy of a slice from a DataFrame.\n",
      "Try using .loc[row_indexer,col_indexer] = value instead\n",
      "\n",
      "See the caveats in the documentation: http://pandas.pydata.org/pandas-docs/stable/indexing.html#indexing-view-versus-copy\n",
      "  self.obj[key] = _infer_fill_value(value)\n",
      "/Users/daniela/anaconda3/lib/python3.7/site-packages/pandas/core/indexing.py:543: SettingWithCopyWarning: \n",
      "A value is trying to be set on a copy of a slice from a DataFrame.\n",
      "Try using .loc[row_indexer,col_indexer] = value instead\n",
      "\n",
      "See the caveats in the documentation: http://pandas.pydata.org/pandas-docs/stable/indexing.html#indexing-view-versus-copy\n",
      "  self.obj[item] = s\n"
     ]
    }
   ],
   "source": [
    "recent_updates.loc[:, 'count'] = 1"
   ]
  },
  {
   "cell_type": "code",
   "execution_count": 30,
   "metadata": {},
   "outputs": [],
   "source": [
    "centre_district = ['Centrum-Oost', 'Centrum-West']\n",
    "district_nieuw_west = ['Osdorp', 'De Aker - Nieuw Sloten', 'Slotervaart', 'Geuzenveld - Slotermeer']\n",
    "district_noord = ['Oud-Noord', 'Noord-Oost', 'Noord-West']\n",
    "district_oost = ['Oostelijk Havengebied - Indische Buurt', 'Oud-Oost', 'IJburg - Zeeburgereiland', 'Watergraafsmeer']\n",
    "district_west = ['De Baarsjes - Oud-West', 'Bos en Lommer', 'Westerpark']\n",
    "district_zuid = ['Buitenveldert - Zuidas', 'De Pijp - Rivierenbuurt', 'Zuid']\n",
    "district_zuidoost = ['Bijlmer-Centrum', 'Bijlmer-Oost', 'Gaasperdam - Driemond']\n",
    "\n",
    "def district(neighborhood):\n",
    "    if neighborhood in centre_district:\n",
    "        district = 'centre_district'\n",
    "    elif neighborhood in district_nieuw_west:\n",
    "        district = 'district_nieuw_west'\n",
    "    elif neighborhood in district_noord:\n",
    "        district = 'district_noord'\n",
    "    elif neighborhood in district_oost:\n",
    "        district = 'district_oost'\n",
    "    elif neighborhood in district_west:\n",
    "        district = 'district_west'\n",
    "    elif neighborhood in district_zuid:\n",
    "        district = 'district_zuid'\n",
    "    elif neighborhood in district_zuidoost:\n",
    "        district = 'district_zuidoost'\n",
    "    else:\n",
    "        district = np.nan     \n",
    "        \n",
    "    return district"
   ]
  },
  {
   "cell_type": "code",
   "execution_count": 31,
   "metadata": {},
   "outputs": [],
   "source": [
    "recent_updates.loc[:, 'district'] = recent_updates.neighbourhood_cleansed.apply(district)"
   ]
  },
  {
   "cell_type": "code",
   "execution_count": 32,
   "metadata": {},
   "outputs": [
    {
     "data": {
      "text/html": [
       "<div>\n",
       "<style scoped>\n",
       "    .dataframe tbody tr th:only-of-type {\n",
       "        vertical-align: middle;\n",
       "    }\n",
       "\n",
       "    .dataframe tbody tr th {\n",
       "        vertical-align: top;\n",
       "    }\n",
       "\n",
       "    .dataframe thead th {\n",
       "        text-align: right;\n",
       "    }\n",
       "</style>\n",
       "<table border=\"1\" class=\"dataframe\">\n",
       "  <thead>\n",
       "    <tr style=\"text-align: right;\">\n",
       "      <th></th>\n",
       "      <th>id</th>\n",
       "      <th>neighbourhood_cleansed</th>\n",
       "      <th>calendar_updated</th>\n",
       "      <th>has_availability</th>\n",
       "      <th>availability_30</th>\n",
       "      <th>availability_60</th>\n",
       "      <th>availability_90</th>\n",
       "      <th>availability_365</th>\n",
       "      <th>calendar_last_scraped</th>\n",
       "      <th>updated</th>\n",
       "      <th>count</th>\n",
       "      <th>district</th>\n",
       "    </tr>\n",
       "  </thead>\n",
       "  <tbody>\n",
       "    <tr>\n",
       "      <th>0</th>\n",
       "      <td>2818</td>\n",
       "      <td>Oostelijk Havengebied - Indische Buurt</td>\n",
       "      <td>2 months ago</td>\n",
       "      <td>t</td>\n",
       "      <td>0</td>\n",
       "      <td>0</td>\n",
       "      <td>0</td>\n",
       "      <td>0</td>\n",
       "      <td>2019-12-08</td>\n",
       "      <td>60.0</td>\n",
       "      <td>1</td>\n",
       "      <td>district_oost</td>\n",
       "    </tr>\n",
       "    <tr>\n",
       "      <th>1</th>\n",
       "      <td>20168</td>\n",
       "      <td>Centrum-Oost</td>\n",
       "      <td>yesterday</td>\n",
       "      <td>t</td>\n",
       "      <td>4</td>\n",
       "      <td>21</td>\n",
       "      <td>51</td>\n",
       "      <td>198</td>\n",
       "      <td>2019-12-08</td>\n",
       "      <td>1.0</td>\n",
       "      <td>1</td>\n",
       "      <td>centre_district</td>\n",
       "    </tr>\n",
       "    <tr>\n",
       "      <th>2</th>\n",
       "      <td>25428</td>\n",
       "      <td>Centrum-West</td>\n",
       "      <td>3 months ago</td>\n",
       "      <td>t</td>\n",
       "      <td>2</td>\n",
       "      <td>26</td>\n",
       "      <td>26</td>\n",
       "      <td>71</td>\n",
       "      <td>2019-12-08</td>\n",
       "      <td>90.0</td>\n",
       "      <td>1</td>\n",
       "      <td>centre_district</td>\n",
       "    </tr>\n",
       "    <tr>\n",
       "      <th>3</th>\n",
       "      <td>27886</td>\n",
       "      <td>Centrum-West</td>\n",
       "      <td>yesterday</td>\n",
       "      <td>t</td>\n",
       "      <td>16</td>\n",
       "      <td>43</td>\n",
       "      <td>69</td>\n",
       "      <td>251</td>\n",
       "      <td>2019-12-08</td>\n",
       "      <td>1.0</td>\n",
       "      <td>1</td>\n",
       "      <td>centre_district</td>\n",
       "    </tr>\n",
       "    <tr>\n",
       "      <th>4</th>\n",
       "      <td>28871</td>\n",
       "      <td>Centrum-West</td>\n",
       "      <td>4 months ago</td>\n",
       "      <td>t</td>\n",
       "      <td>0</td>\n",
       "      <td>2</td>\n",
       "      <td>10</td>\n",
       "      <td>134</td>\n",
       "      <td>2019-12-08</td>\n",
       "      <td>120.0</td>\n",
       "      <td>1</td>\n",
       "      <td>centre_district</td>\n",
       "    </tr>\n",
       "  </tbody>\n",
       "</table>\n",
       "</div>"
      ],
      "text/plain": [
       "      id                  neighbourhood_cleansed calendar_updated  \\\n",
       "0   2818  Oostelijk Havengebied - Indische Buurt     2 months ago   \n",
       "1  20168                            Centrum-Oost        yesterday   \n",
       "2  25428                            Centrum-West     3 months ago   \n",
       "3  27886                            Centrum-West        yesterday   \n",
       "4  28871                            Centrum-West     4 months ago   \n",
       "\n",
       "  has_availability  availability_30  availability_60  availability_90  \\\n",
       "0                t                0                0                0   \n",
       "1                t                4               21               51   \n",
       "2                t                2               26               26   \n",
       "3                t               16               43               69   \n",
       "4                t                0                2               10   \n",
       "\n",
       "   availability_365 calendar_last_scraped  updated  count         district  \n",
       "0                 0            2019-12-08     60.0      1    district_oost  \n",
       "1               198            2019-12-08      1.0      1  centre_district  \n",
       "2                71            2019-12-08     90.0      1  centre_district  \n",
       "3               251            2019-12-08      1.0      1  centre_district  \n",
       "4               134            2019-12-08    120.0      1  centre_district  "
      ]
     },
     "execution_count": 32,
     "metadata": {},
     "output_type": "execute_result"
    }
   ],
   "source": [
    "recent_updates.head()"
   ]
  },
  {
   "cell_type": "code",
   "execution_count": 33,
   "metadata": {},
   "outputs": [],
   "source": [
    "available_30 = recent_updates.groupby(['district', 'availability_30']).count().reset_index().loc[:, ['district','availability_30', 'count']]"
   ]
  },
  {
   "cell_type": "code",
   "execution_count": 34,
   "metadata": {},
   "outputs": [],
   "source": [
    "district = recent_updates.groupby(['district']).count().reset_index().loc[:, ['district', 'count']]"
   ]
  },
  {
   "cell_type": "code",
   "execution_count": 35,
   "metadata": {},
   "outputs": [],
   "source": [
    "available_30_district = pd.merge(available_30, district, on=['district', 'district'])"
   ]
  },
  {
   "cell_type": "code",
   "execution_count": 36,
   "metadata": {},
   "outputs": [],
   "source": [
    "available_30_district['percent'] = available_30_district['count_x']/available_30_district['count_y']"
   ]
  },
  {
   "cell_type": "code",
   "execution_count": 37,
   "metadata": {},
   "outputs": [
    {
     "data": {
      "text/html": [
       "<div>\n",
       "<style scoped>\n",
       "    .dataframe tbody tr th:only-of-type {\n",
       "        vertical-align: middle;\n",
       "    }\n",
       "\n",
       "    .dataframe tbody tr th {\n",
       "        vertical-align: top;\n",
       "    }\n",
       "\n",
       "    .dataframe thead th {\n",
       "        text-align: right;\n",
       "    }\n",
       "</style>\n",
       "<table border=\"1\" class=\"dataframe\">\n",
       "  <thead>\n",
       "    <tr style=\"text-align: right;\">\n",
       "      <th></th>\n",
       "      <th>district</th>\n",
       "      <th>availability_30</th>\n",
       "      <th>count_x</th>\n",
       "      <th>count_y</th>\n",
       "      <th>percent</th>\n",
       "    </tr>\n",
       "  </thead>\n",
       "  <tbody>\n",
       "    <tr>\n",
       "      <th>0</th>\n",
       "      <td>centre_district</td>\n",
       "      <td>0</td>\n",
       "      <td>1285</td>\n",
       "      <td>3157</td>\n",
       "      <td>0.407032</td>\n",
       "    </tr>\n",
       "    <tr>\n",
       "      <th>1</th>\n",
       "      <td>centre_district</td>\n",
       "      <td>1</td>\n",
       "      <td>84</td>\n",
       "      <td>3157</td>\n",
       "      <td>0.026608</td>\n",
       "    </tr>\n",
       "    <tr>\n",
       "      <th>2</th>\n",
       "      <td>centre_district</td>\n",
       "      <td>2</td>\n",
       "      <td>71</td>\n",
       "      <td>3157</td>\n",
       "      <td>0.022490</td>\n",
       "    </tr>\n",
       "    <tr>\n",
       "      <th>3</th>\n",
       "      <td>centre_district</td>\n",
       "      <td>3</td>\n",
       "      <td>92</td>\n",
       "      <td>3157</td>\n",
       "      <td>0.029142</td>\n",
       "    </tr>\n",
       "    <tr>\n",
       "      <th>4</th>\n",
       "      <td>centre_district</td>\n",
       "      <td>4</td>\n",
       "      <td>112</td>\n",
       "      <td>3157</td>\n",
       "      <td>0.035477</td>\n",
       "    </tr>\n",
       "  </tbody>\n",
       "</table>\n",
       "</div>"
      ],
      "text/plain": [
       "          district  availability_30  count_x  count_y   percent\n",
       "0  centre_district                0     1285     3157  0.407032\n",
       "1  centre_district                1       84     3157  0.026608\n",
       "2  centre_district                2       71     3157  0.022490\n",
       "3  centre_district                3       92     3157  0.029142\n",
       "4  centre_district                4      112     3157  0.035477"
      ]
     },
     "execution_count": 37,
     "metadata": {},
     "output_type": "execute_result"
    }
   ],
   "source": [
    "available_30_district.head()"
   ]
  },
  {
   "cell_type": "markdown",
   "metadata": {},
   "source": [
    "#### Percentage of listings without availability in the next 30 days"
   ]
  },
  {
   "cell_type": "code",
   "execution_count": 38,
   "metadata": {},
   "outputs": [
    {
     "data": {
      "image/png": "[encoded data removed]",
      "text/plain": [
       "<Figure size 1152x396 with 1 Axes>"
      ]
     },
     "metadata": {
      "needs_background": "light"
     },
     "output_type": "display_data"
    }
   ],
   "source": [
    "_ = plt.figure(figsize=(16, 5.5))\n",
    "_ = plt.yscale('log')\n",
    "_ = sns.barplot(x='availability_30', \n",
    "                y='percent', \n",
    "                palette='rocket',\n",
    "                hue='district',\n",
    "                data=available_30_district)\n",
    "_ = plt.xlabel('Available days', size=14)\n",
    "_ = plt.ylabel('Percentage of listings', size=14)\n",
    "_ = plt.title('Percentage of listings without availability in the next 30 days', size=16)"
   ]
  },
  {
   "cell_type": "markdown",
   "metadata": {},
   "source": [
    "The horizontal axis represent the number of available days in the calendar of every listing. The vertical axis is the percentage of listings with the respective available days into every district. As we checked before plotting the available days per bookings, the majority of the listings don't have available days in the next 30 days. It means that 0 available days concentrate a huge group of bookings. If we group that bookings per district, we realize that the District West have the highest % of listings completely reserved in the next month (this percentage is calculated considering the total of listins by district), followed by District Oost, Zuid and Noord. On the other hand, if we check bookings with the half of days availables in the next 30 days, the Centre District has the highest % of bookings availables. And finally, considering the bookings without reservations (30 available days), the district Zuidoost has the highest % of listings availables."
   ]
  },
  {
   "cell_type": "code",
   "execution_count": null,
   "metadata": {},
   "outputs": [],
   "source": []
  }
 ],
 "metadata": {
  "kernelspec": {
   "display_name": "Python 3",
   "language": "python",
   "name": "python3"
  },
  "language_info": {
   "codemirror_mode": {
    "name": "ipython",
    "version": 3
   },
   "file_extension": ".py",
   "mimetype": "text/x-python",
   "name": "python",
   "nbconvert_exporter": "python",
   "pygments_lexer": "ipython3",
   "version": "3.7.1"
  }
 },
 "nbformat": 4,
 "nbformat_minor": 2
}
