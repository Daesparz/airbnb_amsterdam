{
 "cells": [
  {
   "cell_type": "markdown",
   "metadata": {},
   "source": [
    "# Analysis of Listing scores"
   ]
  },
  {
   "cell_type": "markdown",
   "metadata": {},
   "source": [
    "In this last section of Data Analysis, we are focusing on listings scores according to the quality of the service. Cleanliness, location bookings, checkin and comunication with hosts are evaluated by guests in a scale from 1 to 10. "
   ]
  },
  {
   "cell_type": "code",
   "execution_count": 1,
   "metadata": {},
   "outputs": [],
   "source": [
    "import gzip\n",
    "import json\n",
    "import csv\n",
    "import pandas as pd\n",
    "import numpy as np\n",
    "from scipy import stats\n",
    "from functools import reduce\n",
    "import seaborn as sns\n",
    "import matplotlib.pyplot as plt"
   ]
  },
  {
   "cell_type": "code",
   "execution_count": 2,
   "metadata": {},
   "outputs": [],
   "source": [
    "listing = pd.read_csv('../Data/raw/listings.csv.gz', \n",
    "                      compression='gzip',\n",
    "                      error_bad_lines=False, \n",
    "                      low_memory=False)"
   ]
  },
  {
   "cell_type": "code",
   "execution_count": 3,
   "metadata": {},
   "outputs": [
    {
     "data": {
      "text/plain": [
       "Index(['id', 'listing_url', 'scrape_id', 'last_scraped', 'name', 'summary',\n",
       "       'space', 'description', 'experiences_offered', 'neighborhood_overview',\n",
       "       ...\n",
       "       'instant_bookable', 'is_business_travel_ready', 'cancellation_policy',\n",
       "       'require_guest_profile_picture', 'require_guest_phone_verification',\n",
       "       'calculated_host_listings_count',\n",
       "       'calculated_host_listings_count_entire_homes',\n",
       "       'calculated_host_listings_count_private_rooms',\n",
       "       'calculated_host_listings_count_shared_rooms', 'reviews_per_month'],\n",
       "      dtype='object', length=106)"
      ]
     },
     "execution_count": 3,
     "metadata": {},
     "output_type": "execute_result"
    }
   ],
   "source": [
    "listing.columns"
   ]
  },
  {
   "cell_type": "markdown",
   "metadata": {},
   "source": [
    "Selecting the columns associated with evaluation of listings:"
   ]
  },
  {
   "cell_type": "code",
   "execution_count": 4,
   "metadata": {},
   "outputs": [],
   "source": [
    "reviews = listing.loc[:, 'number_of_reviews':'review_scores_value']"
   ]
  },
  {
   "cell_type": "markdown",
   "metadata": {},
   "source": [
    "And including ID, neighborhood, room and property type to identify every one:"
   ]
  },
  {
   "cell_type": "code",
   "execution_count": 5,
   "metadata": {},
   "outputs": [],
   "source": [
    "df_id = listing.loc[:, ['id', 'neighbourhood_cleansed', 'room_type', 'property_type']]"
   ]
  },
  {
   "cell_type": "code",
   "execution_count": 6,
   "metadata": {},
   "outputs": [],
   "source": [
    "df_reviews = pd.concat([df_id, reviews,], axis=1, sort=False)"
   ]
  },
  {
   "cell_type": "code",
   "execution_count": 7,
   "metadata": {},
   "outputs": [
    {
     "data": {
      "text/html": [
       "<div>\n",
       "<style scoped>\n",
       "    .dataframe tbody tr th:only-of-type {\n",
       "        vertical-align: middle;\n",
       "    }\n",
       "\n",
       "    .dataframe tbody tr th {\n",
       "        vertical-align: top;\n",
       "    }\n",
       "\n",
       "    .dataframe thead th {\n",
       "        text-align: right;\n",
       "    }\n",
       "</style>\n",
       "<table border=\"1\" class=\"dataframe\">\n",
       "  <thead>\n",
       "    <tr style=\"text-align: right;\">\n",
       "      <th></th>\n",
       "      <th>id</th>\n",
       "      <th>neighbourhood_cleansed</th>\n",
       "      <th>room_type</th>\n",
       "      <th>property_type</th>\n",
       "      <th>number_of_reviews</th>\n",
       "      <th>number_of_reviews_ltm</th>\n",
       "      <th>first_review</th>\n",
       "      <th>last_review</th>\n",
       "      <th>review_scores_rating</th>\n",
       "      <th>review_scores_accuracy</th>\n",
       "      <th>review_scores_cleanliness</th>\n",
       "      <th>review_scores_checkin</th>\n",
       "      <th>review_scores_communication</th>\n",
       "      <th>review_scores_location</th>\n",
       "      <th>review_scores_value</th>\n",
       "    </tr>\n",
       "  </thead>\n",
       "  <tbody>\n",
       "    <tr>\n",
       "      <th>0</th>\n",
       "      <td>2818</td>\n",
       "      <td>Oostelijk Havengebied - Indische Buurt</td>\n",
       "      <td>Private room</td>\n",
       "      <td>Apartment</td>\n",
       "      <td>277</td>\n",
       "      <td>29</td>\n",
       "      <td>2009-03-30</td>\n",
       "      <td>2019-11-21</td>\n",
       "      <td>98.0</td>\n",
       "      <td>10.0</td>\n",
       "      <td>10.0</td>\n",
       "      <td>10.0</td>\n",
       "      <td>10.0</td>\n",
       "      <td>9.0</td>\n",
       "      <td>10.0</td>\n",
       "    </tr>\n",
       "    <tr>\n",
       "      <th>1</th>\n",
       "      <td>20168</td>\n",
       "      <td>Centrum-Oost</td>\n",
       "      <td>Private room</td>\n",
       "      <td>Townhouse</td>\n",
       "      <td>306</td>\n",
       "      <td>71</td>\n",
       "      <td>2010-03-02</td>\n",
       "      <td>2019-12-05</td>\n",
       "      <td>89.0</td>\n",
       "      <td>10.0</td>\n",
       "      <td>10.0</td>\n",
       "      <td>10.0</td>\n",
       "      <td>10.0</td>\n",
       "      <td>10.0</td>\n",
       "      <td>9.0</td>\n",
       "    </tr>\n",
       "    <tr>\n",
       "      <th>2</th>\n",
       "      <td>25428</td>\n",
       "      <td>Centrum-West</td>\n",
       "      <td>Entire home/apt</td>\n",
       "      <td>Apartment</td>\n",
       "      <td>3</td>\n",
       "      <td>2</td>\n",
       "      <td>2018-01-21</td>\n",
       "      <td>2019-05-11</td>\n",
       "      <td>100.0</td>\n",
       "      <td>10.0</td>\n",
       "      <td>10.0</td>\n",
       "      <td>10.0</td>\n",
       "      <td>10.0</td>\n",
       "      <td>10.0</td>\n",
       "      <td>10.0</td>\n",
       "    </tr>\n",
       "    <tr>\n",
       "      <th>3</th>\n",
       "      <td>27886</td>\n",
       "      <td>Centrum-West</td>\n",
       "      <td>Private room</td>\n",
       "      <td>Houseboat</td>\n",
       "      <td>206</td>\n",
       "      <td>35</td>\n",
       "      <td>2012-01-09</td>\n",
       "      <td>2019-11-11</td>\n",
       "      <td>99.0</td>\n",
       "      <td>10.0</td>\n",
       "      <td>10.0</td>\n",
       "      <td>10.0</td>\n",
       "      <td>10.0</td>\n",
       "      <td>10.0</td>\n",
       "      <td>10.0</td>\n",
       "    </tr>\n",
       "    <tr>\n",
       "      <th>4</th>\n",
       "      <td>28871</td>\n",
       "      <td>Centrum-West</td>\n",
       "      <td>Private room</td>\n",
       "      <td>Apartment</td>\n",
       "      <td>318</td>\n",
       "      <td>105</td>\n",
       "      <td>2010-08-22</td>\n",
       "      <td>2019-11-23</td>\n",
       "      <td>98.0</td>\n",
       "      <td>10.0</td>\n",
       "      <td>10.0</td>\n",
       "      <td>10.0</td>\n",
       "      <td>10.0</td>\n",
       "      <td>10.0</td>\n",
       "      <td>10.0</td>\n",
       "    </tr>\n",
       "  </tbody>\n",
       "</table>\n",
       "</div>"
      ],
      "text/plain": [
       "      id                  neighbourhood_cleansed        room_type  \\\n",
       "0   2818  Oostelijk Havengebied - Indische Buurt     Private room   \n",
       "1  20168                            Centrum-Oost     Private room   \n",
       "2  25428                            Centrum-West  Entire home/apt   \n",
       "3  27886                            Centrum-West     Private room   \n",
       "4  28871                            Centrum-West     Private room   \n",
       "\n",
       "  property_type  number_of_reviews  number_of_reviews_ltm first_review  \\\n",
       "0     Apartment                277                     29   2009-03-30   \n",
       "1     Townhouse                306                     71   2010-03-02   \n",
       "2     Apartment                  3                      2   2018-01-21   \n",
       "3     Houseboat                206                     35   2012-01-09   \n",
       "4     Apartment                318                    105   2010-08-22   \n",
       "\n",
       "  last_review  review_scores_rating  review_scores_accuracy  \\\n",
       "0  2019-11-21                  98.0                    10.0   \n",
       "1  2019-12-05                  89.0                    10.0   \n",
       "2  2019-05-11                 100.0                    10.0   \n",
       "3  2019-11-11                  99.0                    10.0   \n",
       "4  2019-11-23                  98.0                    10.0   \n",
       "\n",
       "   review_scores_cleanliness  review_scores_checkin  \\\n",
       "0                       10.0                   10.0   \n",
       "1                       10.0                   10.0   \n",
       "2                       10.0                   10.0   \n",
       "3                       10.0                   10.0   \n",
       "4                       10.0                   10.0   \n",
       "\n",
       "   review_scores_communication  review_scores_location  review_scores_value  \n",
       "0                         10.0                     9.0                 10.0  \n",
       "1                         10.0                    10.0                  9.0  \n",
       "2                         10.0                    10.0                 10.0  \n",
       "3                         10.0                    10.0                 10.0  \n",
       "4                         10.0                    10.0                 10.0  "
      ]
     },
     "execution_count": 7,
     "metadata": {},
     "output_type": "execute_result"
    }
   ],
   "source": [
    "df_reviews.head()"
   ]
  },
  {
   "cell_type": "markdown",
   "metadata": {},
   "source": [
    "### Review Scores Rating by room types, property types and neighborhoods"
   ]
  },
  {
   "cell_type": "markdown",
   "metadata": {},
   "source": [
    "Firstly, we inspect a boxplot of the rating score to know the lower and upper intervals. The scale in this case is between 0 and 100, but surprisingly almost all data is concentrated **between 80 and 100 scores**. Well done, Airbnb! The quality of the service that hosts offer to guests seems to be fantastic! "
   ]
  },
  {
   "cell_type": "code",
   "execution_count": 8,
   "metadata": {},
   "outputs": [
    {
     "data": {
      "image/png": "[encoded data removed]",
      "text/plain": [
       "<Figure size 864x468 with 1 Axes>"
      ]
     },
     "metadata": {
      "needs_background": "light"
     },
     "output_type": "display_data"
    }
   ],
   "source": [
    "_ = plt.figure(figsize=(12, 6.5))\n",
    "_ = sns.boxplot(y = 'review_scores_rating', x='room_type', data=df_reviews, palette='pastel')\n",
    "_ = plt.ylabel('Review scores rating')\n",
    "_ = plt.xlabel('Room type')\n",
    "_ = plt.title('Distribution of review scores rating in Amsterdam according to type of room', size=14)\n",
    "_ = plt.ylim(45, 105)"
   ]
  },
  {
   "cell_type": "code",
   "execution_count": 9,
   "metadata": {},
   "outputs": [],
   "source": [
    "properties = df_reviews.groupby('property_type').count().id > 300"
   ]
  },
  {
   "cell_type": "code",
   "execution_count": 10,
   "metadata": {},
   "outputs": [],
   "source": [
    "property_list = list(properties[properties == True].index)"
   ]
  },
  {
   "cell_type": "code",
   "execution_count": 11,
   "metadata": {},
   "outputs": [
    {
     "data": {
      "text/plain": [
       "['Apartment',\n",
       " 'Bed and breakfast',\n",
       " 'Boat',\n",
       " 'Condominium',\n",
       " 'House',\n",
       " 'Houseboat',\n",
       " 'Loft',\n",
       " 'Townhouse']"
      ]
     },
     "execution_count": 11,
     "metadata": {},
     "output_type": "execute_result"
    }
   ],
   "source": [
    "property_list"
   ]
  },
  {
   "cell_type": "code",
   "execution_count": 12,
   "metadata": {},
   "outputs": [],
   "source": [
    "df_reviews_filtering_properties = df_reviews[df_reviews.property_type.isin(property_list)]"
   ]
  },
  {
   "cell_type": "code",
   "execution_count": 13,
   "metadata": {},
   "outputs": [
    {
     "data": {
      "image/png": "[encoded data removed]",
      "text/plain": [
       "<Figure size 1440x612 with 1 Axes>"
      ]
     },
     "metadata": {
      "needs_background": "light"
     },
     "output_type": "display_data"
    }
   ],
   "source": [
    "_ = plt.figure(figsize=(20, 8.5))\n",
    "_ = sns.boxplot(y ='review_scores_rating', x='property_type', data=df_reviews_filtering_properties, palette='pastel')\n",
    "_ = plt.ylabel('Review scores rating', size=12)\n",
    "_ = plt.xlabel('Property type', size=12)\n",
    "_ = plt.title('Distribution of review scores rating in Amsterdam according to type of property', size=16)\n",
    "_ = plt.ylim(45, 105)"
   ]
  },
  {
   "cell_type": "code",
   "execution_count": 14,
   "metadata": {},
   "outputs": [],
   "source": [
    "neighborhood = df_reviews.groupby('neighbourhood_cleansed').count().id > 1000"
   ]
  },
  {
   "cell_type": "code",
   "execution_count": 15,
   "metadata": {},
   "outputs": [],
   "source": [
    "neighborhood_list = list(neighborhood[neighborhood == True].index)"
   ]
  },
  {
   "cell_type": "code",
   "execution_count": 16,
   "metadata": {},
   "outputs": [
    {
     "data": {
      "text/plain": [
       "['Bos en Lommer',\n",
       " 'Centrum-Oost',\n",
       " 'Centrum-West',\n",
       " 'De Baarsjes - Oud-West',\n",
       " 'De Pijp - Rivierenbuurt',\n",
       " 'Oud-Oost',\n",
       " 'Westerpark',\n",
       " 'Zuid']"
      ]
     },
     "execution_count": 16,
     "metadata": {},
     "output_type": "execute_result"
    }
   ],
   "source": [
    "neighborhood_list"
   ]
  },
  {
   "cell_type": "code",
   "execution_count": 17,
   "metadata": {},
   "outputs": [],
   "source": [
    "df_reviews_filtering_neighborhood = df_reviews[df_reviews.neighbourhood_cleansed.isin(neighborhood_list)]"
   ]
  },
  {
   "cell_type": "code",
   "execution_count": 18,
   "metadata": {},
   "outputs": [
    {
     "data": {
      "image/png": "[encoded data removed]",
      "text/plain": [
       "<Figure size 1440x612 with 1 Axes>"
      ]
     },
     "metadata": {
      "needs_background": "light"
     },
     "output_type": "display_data"
    }
   ],
   "source": [
    "_ = plt.figure(figsize=(20, 8.5))\n",
    "_ = sns.boxplot(y ='review_scores_rating', x='neighbourhood_cleansed', data=df_reviews_filtering_neighborhood, palette='GnBu_d')\n",
    "_ = plt.ylabel('Review scores rating', size=12)\n",
    "_ = plt.xlabel('Neighborhood', size=12)\n",
    "_ = plt.title('Distribution of review scores rating in Amsterdam according to neighborhoods', size=16)\n",
    "_ = plt.ylim(0, 105)"
   ]
  },
  {
   "cell_type": "markdown",
   "metadata": {},
   "source": [
    "### Review Scores by accuracy, cleanliness, checkin, communication, location and values"
   ]
  },
  {
   "cell_type": "code",
   "execution_count": 19,
   "metadata": {},
   "outputs": [],
   "source": [
    "accuracy = df_reviews.groupby('review_scores_accuracy').count().number_of_reviews.reset_index().rename(columns={'review_scores_accuracy': 'scores'})"
   ]
  },
  {
   "cell_type": "code",
   "execution_count": 20,
   "metadata": {},
   "outputs": [],
   "source": [
    "cleanliness = df_reviews.groupby('review_scores_cleanliness').count().number_of_reviews.reset_index().rename(columns={'review_scores_cleanliness':'scores'})"
   ]
  },
  {
   "cell_type": "code",
   "execution_count": 21,
   "metadata": {},
   "outputs": [],
   "source": [
    "checkin = df_reviews.groupby('review_scores_checkin').count().number_of_reviews.reset_index().rename(columns={'review_scores_checkin':'scores'})"
   ]
  },
  {
   "cell_type": "code",
   "execution_count": 22,
   "metadata": {},
   "outputs": [],
   "source": [
    "communication = df_reviews.groupby('review_scores_communication').count().number_of_reviews.reset_index().rename(columns={'review_scores_communication':'scores'})"
   ]
  },
  {
   "cell_type": "code",
   "execution_count": 23,
   "metadata": {},
   "outputs": [],
   "source": [
    "location = df_reviews.groupby('review_scores_location').count().number_of_reviews.reset_index().rename(columns={'review_scores_location':'scores'})"
   ]
  },
  {
   "cell_type": "code",
   "execution_count": 24,
   "metadata": {},
   "outputs": [],
   "source": [
    "value = df_reviews.groupby('review_scores_value').count().number_of_reviews.reset_index().rename(columns={'review_scores_value':'scores'})"
   ]
  },
  {
   "cell_type": "code",
   "execution_count": 25,
   "metadata": {},
   "outputs": [],
   "source": [
    "dfs = [accuracy, cleanliness, checkin, communication, location, value]\n",
    "\n",
    "df_scores_merged = reduce(lambda left,right: pd.merge(left, right, how='outer', on='scores'), dfs)"
   ]
  },
  {
   "cell_type": "code",
   "execution_count": 26,
   "metadata": {},
   "outputs": [],
   "source": [
    "df_scores_merged.set_index('scores', inplace=True)"
   ]
  },
  {
   "cell_type": "code",
   "execution_count": 27,
   "metadata": {},
   "outputs": [],
   "source": [
    "df_scores_merged.set_axis(['accuracy_scores', \n",
    "                           'cleanliness_scores', \n",
    "                           'checkin_scores', \n",
    "                           'communication_scores', \n",
    "                           'location_scores', \n",
    "                           'value_scores'], axis=1, inplace=True)"
   ]
  },
  {
   "cell_type": "code",
   "execution_count": 28,
   "metadata": {},
   "outputs": [
    {
     "data": {
      "text/html": [
       "<div>\n",
       "<style scoped>\n",
       "    .dataframe tbody tr th:only-of-type {\n",
       "        vertical-align: middle;\n",
       "    }\n",
       "\n",
       "    .dataframe tbody tr th {\n",
       "        vertical-align: top;\n",
       "    }\n",
       "\n",
       "    .dataframe thead th {\n",
       "        text-align: right;\n",
       "    }\n",
       "</style>\n",
       "<table border=\"1\" class=\"dataframe\">\n",
       "  <thead>\n",
       "    <tr style=\"text-align: right;\">\n",
       "      <th></th>\n",
       "      <th>accuracy_scores</th>\n",
       "      <th>cleanliness_scores</th>\n",
       "      <th>checkin_scores</th>\n",
       "      <th>communication_scores</th>\n",
       "      <th>location_scores</th>\n",
       "      <th>value_scores</th>\n",
       "    </tr>\n",
       "    <tr>\n",
       "      <th>scores</th>\n",
       "      <th></th>\n",
       "      <th></th>\n",
       "      <th></th>\n",
       "      <th></th>\n",
       "      <th></th>\n",
       "      <th></th>\n",
       "    </tr>\n",
       "  </thead>\n",
       "  <tbody>\n",
       "    <tr>\n",
       "      <th>2.0</th>\n",
       "      <td>18</td>\n",
       "      <td>26</td>\n",
       "      <td>14.0</td>\n",
       "      <td>17</td>\n",
       "      <td>6.0</td>\n",
       "      <td>17</td>\n",
       "    </tr>\n",
       "    <tr>\n",
       "      <th>3.0</th>\n",
       "      <td>1</td>\n",
       "      <td>2</td>\n",
       "      <td>NaN</td>\n",
       "      <td>1</td>\n",
       "      <td>NaN</td>\n",
       "      <td>1</td>\n",
       "    </tr>\n",
       "    <tr>\n",
       "      <th>4.0</th>\n",
       "      <td>24</td>\n",
       "      <td>37</td>\n",
       "      <td>9.0</td>\n",
       "      <td>11</td>\n",
       "      <td>5.0</td>\n",
       "      <td>22</td>\n",
       "    </tr>\n",
       "    <tr>\n",
       "      <th>5.0</th>\n",
       "      <td>11</td>\n",
       "      <td>19</td>\n",
       "      <td>4.0</td>\n",
       "      <td>4</td>\n",
       "      <td>2.0</td>\n",
       "      <td>17</td>\n",
       "    </tr>\n",
       "    <tr>\n",
       "      <th>6.0</th>\n",
       "      <td>65</td>\n",
       "      <td>151</td>\n",
       "      <td>72.0</td>\n",
       "      <td>59</td>\n",
       "      <td>93.0</td>\n",
       "      <td>151</td>\n",
       "    </tr>\n",
       "    <tr>\n",
       "      <th>7.0</th>\n",
       "      <td>86</td>\n",
       "      <td>199</td>\n",
       "      <td>81.0</td>\n",
       "      <td>68</td>\n",
       "      <td>79.0</td>\n",
       "      <td>197</td>\n",
       "    </tr>\n",
       "    <tr>\n",
       "      <th>8.0</th>\n",
       "      <td>506</td>\n",
       "      <td>1154</td>\n",
       "      <td>428.0</td>\n",
       "      <td>334</td>\n",
       "      <td>921.0</td>\n",
       "      <td>1612</td>\n",
       "    </tr>\n",
       "    <tr>\n",
       "      <th>9.0</th>\n",
       "      <td>3205</td>\n",
       "      <td>4894</td>\n",
       "      <td>2449.0</td>\n",
       "      <td>1980</td>\n",
       "      <td>5997.0</td>\n",
       "      <td>9095</td>\n",
       "    </tr>\n",
       "    <tr>\n",
       "      <th>10.0</th>\n",
       "      <td>13473</td>\n",
       "      <td>10909</td>\n",
       "      <td>14324.0</td>\n",
       "      <td>14914</td>\n",
       "      <td>10280.0</td>\n",
       "      <td>6271</td>\n",
       "    </tr>\n",
       "  </tbody>\n",
       "</table>\n",
       "</div>"
      ],
      "text/plain": [
       "        accuracy_scores  cleanliness_scores  checkin_scores  \\\n",
       "scores                                                        \n",
       "2.0                  18                  26            14.0   \n",
       "3.0                   1                   2             NaN   \n",
       "4.0                  24                  37             9.0   \n",
       "5.0                  11                  19             4.0   \n",
       "6.0                  65                 151            72.0   \n",
       "7.0                  86                 199            81.0   \n",
       "8.0                 506                1154           428.0   \n",
       "9.0                3205                4894          2449.0   \n",
       "10.0              13473               10909         14324.0   \n",
       "\n",
       "        communication_scores  location_scores  value_scores  \n",
       "scores                                                       \n",
       "2.0                       17              6.0            17  \n",
       "3.0                        1              NaN             1  \n",
       "4.0                       11              5.0            22  \n",
       "5.0                        4              2.0            17  \n",
       "6.0                       59             93.0           151  \n",
       "7.0                       68             79.0           197  \n",
       "8.0                      334            921.0          1612  \n",
       "9.0                     1980           5997.0          9095  \n",
       "10.0                   14914          10280.0          6271  "
      ]
     },
     "execution_count": 28,
     "metadata": {},
     "output_type": "execute_result"
    }
   ],
   "source": [
    "df_scores_merged"
   ]
  },
  {
   "cell_type": "code",
   "execution_count": 67,
   "metadata": {},
   "outputs": [
    {
     "data": {
      "image/png": "[encoded data removed]",
      "text/plain": [
       "<Figure size 756x468 with 1 Axes>"
      ]
     },
     "metadata": {
      "needs_background": "light"
     },
     "output_type": "display_data"
    }
   ],
   "source": [
    "w = 0.1\n",
    "\n",
    "_ = plt.figure(figsize=(10.5, 6.5))\n",
    "_ = plt.bar(df_scores_merged.index-3*w, df_scores_merged.accuracy_scores, width=w, color='navy', align='center', alpha=0.5, label='Accuracy scores')\n",
    "_ = plt.bar(df_scores_merged.index-2*w, df_scores_merged.cleanliness_scores, width=w, color='blue', align='center', alpha=0.5, label='Cleanliness scores')\n",
    "_ = plt.bar(df_scores_merged.index-w, df_scores_merged.checkin_scores, width=w, color='slateblue', align='center', alpha=0.5, label='Checkin scores')\n",
    "_ = plt.bar(df_scores_merged.index, df_scores_merged.communication_scores, width=w, color='peru', align='center', alpha=0.5, label='Communication scores')\n",
    "_ = plt.bar(df_scores_merged.index+w, df_scores_merged.location_scores, width=w, color='thistle', align='center', alpha=0.5, label='Location scores')\n",
    "_ = plt.bar(df_scores_merged.index+2*w, df_scores_merged.value_scores, width=w, color='palevioletred', align='center', alpha=0.5, label='Value scores')\n",
    "_ = plt.legend(loc='upper left')\n",
    "_ = plt.xlim(5.5, 10.5)\n",
    "_ = plt.yscale('log')\n",
    "_ = plt.xlabel('Scores rating', size=12)\n",
    "_ = plt.ylabel('Number of Listings', size=12)\n",
    "_ = plt.title('Evaluation of listings', size=14)"
   ]
  },
  {
   "cell_type": "markdown",
   "metadata": {},
   "source": [
    "# In-depth analysis: Prediction of booking scores "
   ]
  },
  {
   "cell_type": "markdown",
   "metadata": {},
   "source": [
    "Now, using all the features possible, we will try to inference relations between them to used for the prediction of booking scores."
   ]
  },
  {
   "cell_type": "code",
   "execution_count": null,
   "metadata": {},
   "outputs": [],
   "source": []
  },
  {
   "cell_type": "code",
   "execution_count": null,
   "metadata": {},
   "outputs": [],
   "source": []
  },
  {
   "cell_type": "code",
   "execution_count": null,
   "metadata": {},
   "outputs": [],
   "source": []
  }
 ],
 "metadata": {
  "kernelspec": {
   "display_name": "Python 3",
   "language": "python",
   "name": "python3"
  },
  "language_info": {
   "codemirror_mode": {
    "name": "ipython",
    "version": 3
   },
   "file_extension": ".py",
   "mimetype": "text/x-python",
   "name": "python",
   "nbconvert_exporter": "python",
   "pygments_lexer": "ipython3",
   "version": "3.7.1"
  }
 },
 "nbformat": 4,
 "nbformat_minor": 2
}
