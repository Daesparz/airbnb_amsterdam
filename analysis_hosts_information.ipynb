{
 "cells": [
  {
   "cell_type": "markdown",
   "metadata": {},
   "source": [
    "# Amsterdam Listing"
   ]
  },
  {
   "cell_type": "markdown",
   "metadata": {},
   "source": [
    "Let's import useful packages:"
   ]
  },
  {
   "cell_type": "code",
   "execution_count": 1,
   "metadata": {},
   "outputs": [],
   "source": [
    "import gzip\n",
    "import json\n",
    "import csv\n",
    "import pandas as pd"
   ]
  },
  {
   "cell_type": "code",
   "execution_count": 2,
   "metadata": {},
   "outputs": [],
   "source": [
    "import seaborn as sns\n",
    "import matplotlib.pyplot as plt"
   ]
  },
  {
   "cell_type": "code",
   "execution_count": 3,
   "metadata": {},
   "outputs": [],
   "source": [
    "import numpy as np"
   ]
  },
  {
   "cell_type": "markdown",
   "metadata": {},
   "source": [
    "Pandas is a powerful and flexible library. Specifying the compression type we are able to read gzip files, a compression for huge csv files. In this case, we have set low memory as False because some columns have mixed types. Another recommendation is to establish the data types, but in csv there is not a complement file or extra information to know that."
   ]
  },
  {
   "cell_type": "code",
   "execution_count": 4,
   "metadata": {},
   "outputs": [
    {
     "ename": "FileNotFoundError",
     "evalue": "[Errno 2] No such file or directory: '../Data/row/listings.csv.gz'",
     "output_type": "error",
     "traceback": [
      "\u001b[0;31m---------------------------------------------------------------------------\u001b[0m",
      "\u001b[0;31mFileNotFoundError\u001b[0m                         Traceback (most recent call last)",
      "\u001b[0;32m<ipython-input-4-c9118c25333d>\u001b[0m in \u001b[0;36m<module>\u001b[0;34m\u001b[0m\n\u001b[1;32m      1\u001b[0m listing = pd.read_csv('../Data/row/listings.csv.gz', compression='gzip',\n\u001b[0;32m----> 2\u001b[0;31m                    error_bad_lines=False, low_memory=False)\n\u001b[0m",
      "\u001b[0;32m~/anaconda3/lib/python3.7/site-packages/pandas/io/parsers.py\u001b[0m in \u001b[0;36mparser_f\u001b[0;34m(filepath_or_buffer, sep, delimiter, header, names, index_col, usecols, squeeze, prefix, mangle_dupe_cols, dtype, engine, converters, true_values, false_values, skipinitialspace, skiprows, nrows, na_values, keep_default_na, na_filter, verbose, skip_blank_lines, parse_dates, infer_datetime_format, keep_date_col, date_parser, dayfirst, iterator, chunksize, compression, thousands, decimal, lineterminator, quotechar, quoting, escapechar, comment, encoding, dialect, tupleize_cols, error_bad_lines, warn_bad_lines, skipfooter, doublequote, delim_whitespace, low_memory, memory_map, float_precision)\u001b[0m\n\u001b[1;32m    676\u001b[0m                     skip_blank_lines=skip_blank_lines)\n\u001b[1;32m    677\u001b[0m \u001b[0;34m\u001b[0m\u001b[0m\n\u001b[0;32m--> 678\u001b[0;31m         \u001b[0;32mreturn\u001b[0m \u001b[0m_read\u001b[0m\u001b[0;34m(\u001b[0m\u001b[0mfilepath_or_buffer\u001b[0m\u001b[0;34m,\u001b[0m \u001b[0mkwds\u001b[0m\u001b[0;34m)\u001b[0m\u001b[0;34m\u001b[0m\u001b[0;34m\u001b[0m\u001b[0m\n\u001b[0m\u001b[1;32m    679\u001b[0m \u001b[0;34m\u001b[0m\u001b[0m\n\u001b[1;32m    680\u001b[0m     \u001b[0mparser_f\u001b[0m\u001b[0;34m.\u001b[0m\u001b[0m__name__\u001b[0m \u001b[0;34m=\u001b[0m \u001b[0mname\u001b[0m\u001b[0;34m\u001b[0m\u001b[0;34m\u001b[0m\u001b[0m\n",
      "\u001b[0;32m~/anaconda3/lib/python3.7/site-packages/pandas/io/parsers.py\u001b[0m in \u001b[0;36m_read\u001b[0;34m(filepath_or_buffer, kwds)\u001b[0m\n\u001b[1;32m    438\u001b[0m \u001b[0;34m\u001b[0m\u001b[0m\n\u001b[1;32m    439\u001b[0m     \u001b[0;31m# Create the parser.\u001b[0m\u001b[0;34m\u001b[0m\u001b[0;34m\u001b[0m\u001b[0;34m\u001b[0m\u001b[0m\n\u001b[0;32m--> 440\u001b[0;31m     \u001b[0mparser\u001b[0m \u001b[0;34m=\u001b[0m \u001b[0mTextFileReader\u001b[0m\u001b[0;34m(\u001b[0m\u001b[0mfilepath_or_buffer\u001b[0m\u001b[0;34m,\u001b[0m \u001b[0;34m**\u001b[0m\u001b[0mkwds\u001b[0m\u001b[0;34m)\u001b[0m\u001b[0;34m\u001b[0m\u001b[0;34m\u001b[0m\u001b[0m\n\u001b[0m\u001b[1;32m    441\u001b[0m \u001b[0;34m\u001b[0m\u001b[0m\n\u001b[1;32m    442\u001b[0m     \u001b[0;32mif\u001b[0m \u001b[0mchunksize\u001b[0m \u001b[0;32mor\u001b[0m \u001b[0miterator\u001b[0m\u001b[0;34m:\u001b[0m\u001b[0;34m\u001b[0m\u001b[0;34m\u001b[0m\u001b[0m\n",
      "\u001b[0;32m~/anaconda3/lib/python3.7/site-packages/pandas/io/parsers.py\u001b[0m in \u001b[0;36m__init__\u001b[0;34m(self, f, engine, **kwds)\u001b[0m\n\u001b[1;32m    785\u001b[0m             \u001b[0mself\u001b[0m\u001b[0;34m.\u001b[0m\u001b[0moptions\u001b[0m\u001b[0;34m[\u001b[0m\u001b[0;34m'has_index_names'\u001b[0m\u001b[0;34m]\u001b[0m \u001b[0;34m=\u001b[0m \u001b[0mkwds\u001b[0m\u001b[0;34m[\u001b[0m\u001b[0;34m'has_index_names'\u001b[0m\u001b[0;34m]\u001b[0m\u001b[0;34m\u001b[0m\u001b[0;34m\u001b[0m\u001b[0m\n\u001b[1;32m    786\u001b[0m \u001b[0;34m\u001b[0m\u001b[0m\n\u001b[0;32m--> 787\u001b[0;31m         \u001b[0mself\u001b[0m\u001b[0;34m.\u001b[0m\u001b[0m_make_engine\u001b[0m\u001b[0;34m(\u001b[0m\u001b[0mself\u001b[0m\u001b[0;34m.\u001b[0m\u001b[0mengine\u001b[0m\u001b[0;34m)\u001b[0m\u001b[0;34m\u001b[0m\u001b[0;34m\u001b[0m\u001b[0m\n\u001b[0m\u001b[1;32m    788\u001b[0m \u001b[0;34m\u001b[0m\u001b[0m\n\u001b[1;32m    789\u001b[0m     \u001b[0;32mdef\u001b[0m \u001b[0mclose\u001b[0m\u001b[0;34m(\u001b[0m\u001b[0mself\u001b[0m\u001b[0;34m)\u001b[0m\u001b[0;34m:\u001b[0m\u001b[0;34m\u001b[0m\u001b[0;34m\u001b[0m\u001b[0m\n",
      "\u001b[0;32m~/anaconda3/lib/python3.7/site-packages/pandas/io/parsers.py\u001b[0m in \u001b[0;36m_make_engine\u001b[0;34m(self, engine)\u001b[0m\n\u001b[1;32m   1012\u001b[0m     \u001b[0;32mdef\u001b[0m \u001b[0m_make_engine\u001b[0m\u001b[0;34m(\u001b[0m\u001b[0mself\u001b[0m\u001b[0;34m,\u001b[0m \u001b[0mengine\u001b[0m\u001b[0;34m=\u001b[0m\u001b[0;34m'c'\u001b[0m\u001b[0;34m)\u001b[0m\u001b[0;34m:\u001b[0m\u001b[0;34m\u001b[0m\u001b[0;34m\u001b[0m\u001b[0m\n\u001b[1;32m   1013\u001b[0m         \u001b[0;32mif\u001b[0m \u001b[0mengine\u001b[0m \u001b[0;34m==\u001b[0m \u001b[0;34m'c'\u001b[0m\u001b[0;34m:\u001b[0m\u001b[0;34m\u001b[0m\u001b[0;34m\u001b[0m\u001b[0m\n\u001b[0;32m-> 1014\u001b[0;31m             \u001b[0mself\u001b[0m\u001b[0;34m.\u001b[0m\u001b[0m_engine\u001b[0m \u001b[0;34m=\u001b[0m \u001b[0mCParserWrapper\u001b[0m\u001b[0;34m(\u001b[0m\u001b[0mself\u001b[0m\u001b[0;34m.\u001b[0m\u001b[0mf\u001b[0m\u001b[0;34m,\u001b[0m \u001b[0;34m**\u001b[0m\u001b[0mself\u001b[0m\u001b[0;34m.\u001b[0m\u001b[0moptions\u001b[0m\u001b[0;34m)\u001b[0m\u001b[0;34m\u001b[0m\u001b[0;34m\u001b[0m\u001b[0m\n\u001b[0m\u001b[1;32m   1015\u001b[0m         \u001b[0;32melse\u001b[0m\u001b[0;34m:\u001b[0m\u001b[0;34m\u001b[0m\u001b[0;34m\u001b[0m\u001b[0m\n\u001b[1;32m   1016\u001b[0m             \u001b[0;32mif\u001b[0m \u001b[0mengine\u001b[0m \u001b[0;34m==\u001b[0m \u001b[0;34m'python'\u001b[0m\u001b[0;34m:\u001b[0m\u001b[0;34m\u001b[0m\u001b[0;34m\u001b[0m\u001b[0m\n",
      "\u001b[0;32m~/anaconda3/lib/python3.7/site-packages/pandas/io/parsers.py\u001b[0m in \u001b[0;36m__init__\u001b[0;34m(self, src, **kwds)\u001b[0m\n\u001b[1;32m   1706\u001b[0m         \u001b[0mkwds\u001b[0m\u001b[0;34m[\u001b[0m\u001b[0;34m'usecols'\u001b[0m\u001b[0;34m]\u001b[0m \u001b[0;34m=\u001b[0m \u001b[0mself\u001b[0m\u001b[0;34m.\u001b[0m\u001b[0musecols\u001b[0m\u001b[0;34m\u001b[0m\u001b[0;34m\u001b[0m\u001b[0m\n\u001b[1;32m   1707\u001b[0m \u001b[0;34m\u001b[0m\u001b[0m\n\u001b[0;32m-> 1708\u001b[0;31m         \u001b[0mself\u001b[0m\u001b[0;34m.\u001b[0m\u001b[0m_reader\u001b[0m \u001b[0;34m=\u001b[0m \u001b[0mparsers\u001b[0m\u001b[0;34m.\u001b[0m\u001b[0mTextReader\u001b[0m\u001b[0;34m(\u001b[0m\u001b[0msrc\u001b[0m\u001b[0;34m,\u001b[0m \u001b[0;34m**\u001b[0m\u001b[0mkwds\u001b[0m\u001b[0;34m)\u001b[0m\u001b[0;34m\u001b[0m\u001b[0;34m\u001b[0m\u001b[0m\n\u001b[0m\u001b[1;32m   1709\u001b[0m \u001b[0;34m\u001b[0m\u001b[0m\n\u001b[1;32m   1710\u001b[0m         \u001b[0mpassed_names\u001b[0m \u001b[0;34m=\u001b[0m \u001b[0mself\u001b[0m\u001b[0;34m.\u001b[0m\u001b[0mnames\u001b[0m \u001b[0;32mis\u001b[0m \u001b[0;32mNone\u001b[0m\u001b[0;34m\u001b[0m\u001b[0;34m\u001b[0m\u001b[0m\n",
      "\u001b[0;32mpandas/_libs/parsers.pyx\u001b[0m in \u001b[0;36mpandas._libs.parsers.TextReader.__cinit__\u001b[0;34m()\u001b[0m\n",
      "\u001b[0;32mpandas/_libs/parsers.pyx\u001b[0m in \u001b[0;36mpandas._libs.parsers.TextReader._setup_parser_source\u001b[0;34m()\u001b[0m\n",
      "\u001b[0;32m~/anaconda3/lib/python3.7/gzip.py\u001b[0m in \u001b[0;36m__init__\u001b[0;34m(self, filename, mode, compresslevel, fileobj, mtime)\u001b[0m\n\u001b[1;32m    161\u001b[0m             \u001b[0mmode\u001b[0m \u001b[0;34m+=\u001b[0m \u001b[0;34m'b'\u001b[0m\u001b[0;34m\u001b[0m\u001b[0;34m\u001b[0m\u001b[0m\n\u001b[1;32m    162\u001b[0m         \u001b[0;32mif\u001b[0m \u001b[0mfileobj\u001b[0m \u001b[0;32mis\u001b[0m \u001b[0;32mNone\u001b[0m\u001b[0;34m:\u001b[0m\u001b[0;34m\u001b[0m\u001b[0;34m\u001b[0m\u001b[0m\n\u001b[0;32m--> 163\u001b[0;31m             \u001b[0mfileobj\u001b[0m \u001b[0;34m=\u001b[0m \u001b[0mself\u001b[0m\u001b[0;34m.\u001b[0m\u001b[0mmyfileobj\u001b[0m \u001b[0;34m=\u001b[0m \u001b[0mbuiltins\u001b[0m\u001b[0;34m.\u001b[0m\u001b[0mopen\u001b[0m\u001b[0;34m(\u001b[0m\u001b[0mfilename\u001b[0m\u001b[0;34m,\u001b[0m \u001b[0mmode\u001b[0m \u001b[0;32mor\u001b[0m \u001b[0;34m'rb'\u001b[0m\u001b[0;34m)\u001b[0m\u001b[0;34m\u001b[0m\u001b[0;34m\u001b[0m\u001b[0m\n\u001b[0m\u001b[1;32m    164\u001b[0m         \u001b[0;32mif\u001b[0m \u001b[0mfilename\u001b[0m \u001b[0;32mis\u001b[0m \u001b[0;32mNone\u001b[0m\u001b[0;34m:\u001b[0m\u001b[0;34m\u001b[0m\u001b[0;34m\u001b[0m\u001b[0m\n\u001b[1;32m    165\u001b[0m             \u001b[0mfilename\u001b[0m \u001b[0;34m=\u001b[0m \u001b[0mgetattr\u001b[0m\u001b[0;34m(\u001b[0m\u001b[0mfileobj\u001b[0m\u001b[0;34m,\u001b[0m \u001b[0;34m'name'\u001b[0m\u001b[0;34m,\u001b[0m \u001b[0;34m''\u001b[0m\u001b[0;34m)\u001b[0m\u001b[0;34m\u001b[0m\u001b[0;34m\u001b[0m\u001b[0m\n",
      "\u001b[0;31mFileNotFoundError\u001b[0m: [Errno 2] No such file or directory: '../Data/row/listings.csv.gz'"
     ]
    }
   ],
   "source": [
    "listing = pd.read_csv('../Data/row/listings.csv.gz', compression='gzip',\n",
    "                   error_bad_lines=False, low_memory=False)"
   ]
  },
  {
   "cell_type": "markdown",
   "metadata": {},
   "source": [
    "`info()` and `head()` provide us the big picture of listing data"
   ]
  },
  {
   "cell_type": "code",
   "execution_count": null,
   "metadata": {},
   "outputs": [],
   "source": [
    "listing.info()"
   ]
  },
  {
   "cell_type": "code",
   "execution_count": null,
   "metadata": {},
   "outputs": [],
   "source": [
    "listing.drop_duplicates(inplace=True)"
   ]
  },
  {
   "cell_type": "code",
   "execution_count": null,
   "metadata": {},
   "outputs": [],
   "source": [
    "listing.info()"
   ]
  },
  {
   "cell_type": "code",
   "execution_count": null,
   "metadata": {},
   "outputs": [],
   "source": [
    "listing.head()"
   ]
  },
  {
   "cell_type": "markdown",
   "metadata": {},
   "source": [
    "A brief inspection of columns enable us to split them according to the following **different categories of information**:\n",
    "\n",
    "1. **General information of booking**: id, name, summary, description, space, experiences_offered, neighborhood overview, notes, transit, access, interaction, house_rules. To access that, select columns from `id` to `house_rules`.\n",
    "\n",
    "2. **Host information**: id, name, location, about, response time, response rate, acceptance rate, listings count, verifications. In this case, select columns from `host_id` to `host_identity_verified`.\n",
    "\n",
    "3. All about the **neighborhood**: city, state, market, cleansed. Extract this information selecting columns from `street` to `is_location_exact`.\n",
    "\n",
    "4. Details of **property and conditions** are between the columns `property_type` and `maximum_nights_avg_ntm`.\n",
    "\n",
    "5. **Calendar updates and availability** the next 30, 60 and 90 days, for instances. You can find this information between the columns `calendar_updated` and `calendar_last_scraped`.\n",
    "\n",
    "6. **Reviews**: first and last review, number of reviews, scores rating, scores per accuracy, cleanliness, checkin, communication, location and value. Columns from `number of reviews` to `review_scores_value`.\n",
    "\n",
    "7. **Verifications and licenses**: require guest profile picture, phone verification, cancellation policy, instant bookeable. Columns from `requires_license` to `require_guest_phone_verification`.\n",
    "\n",
    "8. **Host listings counts** and reviews per month. Select from `calculated_host_listings_count` to `reviews_per_month`."
   ]
  },
  {
   "cell_type": "markdown",
   "metadata": {},
   "source": [
    "## 1. General information of booking"
   ]
  },
  {
   "cell_type": "markdown",
   "metadata": {},
   "source": [
    "This section will be develop in details in further notebooks to apply Natural Language Processing to resolve the following challenges:\n",
    "\n",
    "1. Empty summaries: Can we use the rest columns to create a summary for litings without one?\n",
    "2. Common elements in Transit \n",
    "3. Common elements in house rules"
   ]
  },
  {
   "cell_type": "code",
   "execution_count": null,
   "metadata": {},
   "outputs": [],
   "source": [
    "booking_records = listing.loc[:, 'id':'house_rules']"
   ]
  },
  {
   "cell_type": "code",
   "execution_count": null,
   "metadata": {},
   "outputs": [],
   "source": [
    "booking_records.info()"
   ]
  },
  {
   "cell_type": "markdown",
   "metadata": {},
   "source": [
    "## 2. Host Information"
   ]
  },
  {
   "cell_type": "code",
   "execution_count": null,
   "metadata": {},
   "outputs": [],
   "source": [
    "host_information = listing.loc[:, 'host_id': 'host_identity_verified']"
   ]
  },
  {
   "cell_type": "code",
   "execution_count": null,
   "metadata": {},
   "outputs": [],
   "source": [
    "host_information.drop_duplicates(inplace=True)"
   ]
  },
  {
   "cell_type": "code",
   "execution_count": null,
   "metadata": {},
   "outputs": [],
   "source": [
    "host_information.to_csv(index=False, path_or_buf='Data/interim')"
   ]
  },
  {
   "cell_type": "code",
   "execution_count": null,
   "metadata": {},
   "outputs": [],
   "source": [
    "host_information.info()"
   ]
  },
  {
   "cell_type": "markdown",
   "metadata": {},
   "source": [
    "### How many listings/host?"
   ]
  },
  {
   "cell_type": "markdown",
   "metadata": {},
   "source": [
    "To avoid duplicates host_id, we select only host_id and total_listing_count, deleting the duplicates:"
   ]
  },
  {
   "cell_type": "code",
   "execution_count": null,
   "metadata": {},
   "outputs": [],
   "source": [
    "unique_host_listings = host_information.loc[:, ['host_id', 'host_total_listings_count']].reindex().drop_duplicates().dropna()"
   ]
  },
  {
   "cell_type": "code",
   "execution_count": null,
   "metadata": {},
   "outputs": [],
   "source": [
    "total_listings_count = unique_host_listings.groupby('host_total_listings_count').count()"
   ]
  },
  {
   "cell_type": "markdown",
   "metadata": {},
   "source": [
    "Graphical identification of outliers:"
   ]
  },
  {
   "cell_type": "code",
   "execution_count": null,
   "metadata": {},
   "outputs": [],
   "source": [
    "_ = plt.xscale('log')\n",
    "_ = sns.boxplot(total_listings_count)\n",
    "_ = plt.xlabel('Number of listings')\n",
    "_ = plt.title('Boxplot of listings/host')"
   ]
  },
  {
   "cell_type": "markdown",
   "metadata": {},
   "source": [
    "Almost all hosts have less than ten listings, but some results are a little unusual. The information is correct and it belongs to hotels chains, global marketplaces and home rental management companies. The most interesting aspect of that is their airbnb profiles look exactly the same of the rest of hosts. There is no extra information about the companies, avoiding the self promotion."
   ]
  },
  {
   "cell_type": "code",
   "execution_count": null,
   "metadata": {},
   "outputs": [],
   "source": [
    "listing_counts = total_listings_count[(total_listings_count.index > 0) & (total_listings_count.index < 60)]"
   ]
  },
  {
   "cell_type": "code",
   "execution_count": null,
   "metadata": {},
   "outputs": [],
   "source": [
    "_ = plt.figure(figsize=(30,10))\n",
    "_ = plt.yscale('log')\n",
    "_ = sns.barplot(x=listing_counts.index, y=listing_counts.host_id, palette=\"rocket\")\n",
    "_ = plt.xlabel('Hosts', size=16)\n",
    "_ = plt.ylabel('Listings', size=16)\n",
    "_ = plt.title('Distribution of listings/host', size=20)"
   ]
  },
  {
   "cell_type": "markdown",
   "metadata": {},
   "source": [
    "### Response Time of Hosts\n",
    "\n",
    "There are 4 categories of response time:"
   ]
  },
  {
   "cell_type": "code",
   "execution_count": null,
   "metadata": {},
   "outputs": [],
   "source": [
    "response_time = host_information.groupby('host_response_time').count().host_id\n",
    "response_time"
   ]
  },
  {
   "cell_type": "code",
   "execution_count": null,
   "metadata": {},
   "outputs": [],
   "source": [
    "_ = plt.figure(figsize=(8, 4))\n",
    "_ = sns.barplot(x=response_time.index, y=response_time, palette='pastel')\n",
    "_ = plt.xlabel('Response time', size=10)\n",
    "_ = plt.ylabel('Number of hosts', size=10)\n",
    "_ = plt.title('Response time of hosts', size=14)"
   ]
  },
  {
   "cell_type": "markdown",
   "metadata": {},
   "source": [
    "And in percentages:"
   ]
  },
  {
   "cell_type": "code",
   "execution_count": null,
   "metadata": {},
   "outputs": [],
   "source": [
    "100*response_time/response_time.sum()"
   ]
  },
  {
   "cell_type": "markdown",
   "metadata": {},
   "source": [
    "According to Airbnb, the response time is the average time that hosts take to respond to all messages in the last 30 days. This includes reservation requests, pre-approve and decline trip requests and reply new inquiries from guests and doesn't consider the follow-up messages between hosts and guests. \n",
    "\n",
    "From the Figure below it's possible conclude that hosts response quickly to their guests: about 46% of hosts reply their requests within an hour; approximately 50% of them take a few or more hours within the same day of the request and finally, almost 4% of hosts respond a few days later or more."
   ]
  },
  {
   "cell_type": "markdown",
   "metadata": {},
   "source": [
    "### Response Rate of Hosts"
   ]
  },
  {
   "cell_type": "markdown",
   "metadata": {},
   "source": [
    "The response rate is the percentage of new requests (reservations and inquiries) that the hosts responded within 24 hours in the past 30 days. Neither response time or response rate consider the follow-up messages between hosts and guests."
   ]
  },
  {
   "cell_type": "code",
   "execution_count": null,
   "metadata": {},
   "outputs": [],
   "source": [
    "def str_rate2int(rate):\n",
    "    if type(rate) is str:\n",
    "        return float(rate.replace(\"%\", \"\"))\n",
    "    else:\n",
    "        return rate "
   ]
  },
  {
   "cell_type": "code",
   "execution_count": null,
   "metadata": {},
   "outputs": [],
   "source": [
    "host_information['host_response_rate_float'] = host_information.host_response_rate.apply(str_rate2int).dropna()"
   ]
  },
  {
   "cell_type": "code",
   "execution_count": null,
   "metadata": {},
   "outputs": [],
   "source": [
    "response_rate = host_information.groupby('host_response_rate_float').count().host_id"
   ]
  },
  {
   "cell_type": "code",
   "execution_count": null,
   "metadata": {},
   "outputs": [],
   "source": [
    "np.warnings.filterwarnings('ignore')\n",
    "\n",
    "_ = plt.figure(figsize=(6,8))\n",
    "_ = plt.hist(host_information['host_response_rate_float'], color='cornflowerblue')\n",
    "_ = plt.xlabel('Response Rate', size=12)\n",
    "_ = plt.ylabel('Number of Hosts', size=12)\n",
    "_ = plt.title('Distribution of Response Rate', size=14)"
   ]
  },
  {
   "cell_type": "code",
   "execution_count": null,
   "metadata": {},
   "outputs": [],
   "source": [
    "response_rate_percent = response_rate/response_rate.sum()"
   ]
  },
  {
   "cell_type": "code",
   "execution_count": null,
   "metadata": {},
   "outputs": [],
   "source": [
    "print('Percentage of Hosts with a Response Rate of 100% the last 30 days: {}%'.format(response_rate_percent[100]))"
   ]
  },
  {
   "cell_type": "markdown",
   "metadata": {},
   "source": [
    "80% of hosts have respond all their messages within 24 hours the last month."
   ]
  },
  {
   "cell_type": "markdown",
   "metadata": {},
   "source": [
    "### What does \"Superhost\" mean?"
   ]
  },
  {
   "cell_type": "markdown",
   "metadata": {},
   "source": [
    "Superhost is a status that hosts receive for good performance during the last 12 months. Some requirements include complete a specific number of trips, higher response rate, a minimum cancellation rate and an excelent overall rating. Let's see how difficult is to get this status."
   ]
  },
  {
   "cell_type": "code",
   "execution_count": null,
   "metadata": {},
   "outputs": [],
   "source": [
    "def str2boolean(row):\n",
    "    if row == 't':\n",
    "        return True\n",
    "    elif row == 'f':\n",
    "        return False\n",
    "    else:\n",
    "        return np.nan"
   ]
  },
  {
   "cell_type": "code",
   "execution_count": null,
   "metadata": {},
   "outputs": [],
   "source": [
    "host_information['host_is_superhost_boolean'] = host_information.host_is_superhost.apply(str2boolean)"
   ]
  },
  {
   "cell_type": "code",
   "execution_count": null,
   "metadata": {},
   "outputs": [],
   "source": [
    "super_host = host_information.groupby('host_is_superhost_boolean').count().host_id"
   ]
  },
  {
   "cell_type": "code",
   "execution_count": null,
   "metadata": {},
   "outputs": [],
   "source": [
    "super_host/super_host.sum()"
   ]
  },
  {
   "cell_type": "code",
   "execution_count": null,
   "metadata": {},
   "outputs": [],
   "source": [
    "_ = plt.figure(figsize=(6, 6))\n",
    "_ = sns.barplot(x =super_host.index, y =super_host, palette='pastel')\n",
    "_ = plt.xlabel('Super Host status', size=10)\n",
    "_ = plt.ylabel('Number of hosts', size=10)\n",
    "_ = plt.title('Super Hosts', size=14)"
   ]
  },
  {
   "cell_type": "markdown",
   "metadata": {},
   "source": [
    "Considering all the requirements to be a superhost is razonable that only 14% of them achieve this status. How higher the response rate is supposed to be to qualify as superhost?"
   ]
  },
  {
   "cell_type": "code",
   "execution_count": null,
   "metadata": {},
   "outputs": [],
   "source": [
    "sub_listings_50 = host_information[host_information.host_total_listings_count <= 50]"
   ]
  },
  {
   "cell_type": "code",
   "execution_count": null,
   "metadata": {},
   "outputs": [],
   "source": [
    "_ = sns.set(style=\"ticks\", palette=\"Set2\")\n",
    "\n",
    "f, ax = plt.subplots(figsize=(6, 6))\n",
    "_ = sns.despine(f, left=True, bottom=True)\n",
    "_ = sns.scatterplot(x=\"host_response_rate_float\",\n",
    "                    y=\"host_total_listings_count\", \n",
    "                    hue=\"host_is_superhost_boolean\",\n",
    "                    data=sub_listings_50, ax=ax)\n",
    "_ = sns.despine(offset=10, trim=True)"
   ]
  },
  {
   "cell_type": "markdown",
   "metadata": {},
   "source": [
    "### Neighborhoods in Amsterdam"
   ]
  },
  {
   "cell_type": "markdown",
   "metadata": {},
   "source": [
    "Amsterdam, a cosmopolitan city with a population around 860 thousands of people, more than 2500 bridges, 165 canals and almost 8900 past centuries built heritage, is split into 8 districts which are further divided into unique neighbordhoods. What are the neighborhoods that concentrate more listings on Airbnb?\n",
    "\n",
    "\n",
    "Ref: [ https://www.amsterdamsights.com/about/neighborhoods.html ] "
   ]
  },
  {
   "cell_type": "code",
   "execution_count": null,
   "metadata": {},
   "outputs": [],
   "source": [
    "host_neighbourhood = host_information.groupby('host_neighbourhood').count()\n",
    "host_neighbourhood_popular = host_neighbourhood[host_neighbourhood.host_id > 100]"
   ]
  },
  {
   "cell_type": "code",
   "execution_count": null,
   "metadata": {},
   "outputs": [],
   "source": [
    "host_neighbourhood_popular.to_csv(index=False, path_or_buf='Data/interim')"
   ]
  },
  {
   "cell_type": "code",
   "execution_count": null,
   "metadata": {},
   "outputs": [],
   "source": [
    "list(host_neighbourhood_popular.index)"
   ]
  },
  {
   "cell_type": "markdown",
   "metadata": {},
   "source": [
    "The list below represents the neighborhoods with more than one hundred of listings. Using that list, we wonder which places have more superhosts:"
   ]
  },
  {
   "cell_type": "code",
   "execution_count": null,
   "metadata": {},
   "outputs": [],
   "source": [
    "sub_popular_neigh = host_information.loc[host_information['host_neighbourhood'].isin(list(host_neighbourhood_popular.index))]"
   ]
  },
  {
   "cell_type": "code",
   "execution_count": null,
   "metadata": {},
   "outputs": [],
   "source": [
    "sub_popular_neigh_superhost = sub_popular_neigh[sub_popular_neigh.host_is_superhost_boolean == True]"
   ]
  },
  {
   "cell_type": "code",
   "execution_count": null,
   "metadata": {},
   "outputs": [],
   "source": [
    "sub_popular_neigh_superhost.groupby('host_neighbourhood').count().sort_values('host_id', ascending=False).host_id"
   ]
  },
  {
   "cell_type": "markdown",
   "metadata": {},
   "source": [
    "Let's explore these results. **Oud-West** "
   ]
  },
  {
   "cell_type": "markdown",
   "metadata": {},
   "source": [
    "**Oud-West**\n",
    "Vondelpark runs down the eastern limits of Oud-West and the neighbourhood is only a short distance away from Amsterdam’s city centre. Despite its centrality, Oud-West is relatively laid-back and features several exceptionally wide streets lined with dozens of trendy bars, restaurants and concert venues. Most of these establishments are spread over Oud-West’s main thoroughfares, namely Overtoom, Kinkerstraat and De Clercqstraat.\n",
    "\n",
    "Each of these roads has its own distinct vibe and its fair share of excellent watering holes. Foodies and cinephiles should definitely stop by De Hallen on Kinkerstraat, which contains a massive indoor food hall where local culinary experts sell their wares, as well as an independent cinema decked out in Art Deco panelling.\n",
    "\n",
    "For foodie couples, Oud-West is the ideal base from which to explore the city.\n",
    "\n",
    "\n",
    "\n",
    "\n",
    "\n",
    "**De Pijp**\n",
    "As with most of Central Amsterdam’s outlying neighbourhoods, for a long time De Pijp housed the city’s working class, and was mainly constructed in the 19th century to fulfil increased demand for housing. Vestiges of this fascinating urban history are still visible throughout De Pijp and the neighbourhood is known for its typical, narrow townhouses, which were originally built to accommodate low-income families.\n",
    "\n",
    "The whole neighbourhood revolves around Amsterdam’s most famous market, Albert Cuyp Markt, which attracts hundreds of visitors every day. Besides these stalls and trestles, De Pijp is also home to many excellent cafés and restaurants, and is well known by locals for its amazing brunch restaurants such as Little Collins, Bakers & Roasters and the Scandinavian Embassy.\n",
    "\n",
    "With its cool boutiques and brunch spots, this area is where trendy twentysomethings like to reside. It’s a little out of town and is the perfect neighbourhood if you want to live like a true Amsterdammer."
   ]
  },
  {
   "cell_type": "code",
   "execution_count": null,
   "metadata": {},
   "outputs": [],
   "source": [
    "# f, ax = plt.subplots(figsize=(20, 8))\n",
    "# sns.despine(f, left=True, bottom=True)\n",
    "# sns.barplot(sub_popular_neigh_superhost.host_neighbourhood, ax=ax)"
   ]
  },
  {
   "cell_type": "code",
   "execution_count": null,
   "metadata": {},
   "outputs": [],
   "source": [
    "# cmap = sns.cubehelix_palette(dark=.3, light=.8, as_cmap=True)\n",
    "\n",
    "# f, ax = plt.subplots(figsize=(20, 8))\n",
    "# sns.despine(f, left=True, bottom=True)\n",
    "# sns.scatterplot(y=\"host_total_listings_count\", \n",
    "#                 x=\"host_response_rate_float\",\n",
    "#                 style=\"host_is_superhost_boolean\",\n",
    "#                 hue='host_neighbourhood',\n",
    "#                 sizes=(150, 150),\n",
    "#                 size=\"host_is_superhost_boolean\",\n",
    "#                 palette=\"Set2\",\n",
    "#                 data=sub_popular_neigh, ax=ax)"
   ]
  },
  {
   "cell_type": "markdown",
   "metadata": {},
   "source": [
    "### Hosts Verification\n",
    "\n",
    "\n",
    "Host and guest verification contribute to the security of the community against fraud. Airbnb ask for additional verification periodically to confirm the identity and the age of their users. This identification include update of profiles with recent photos and take a photo of a valid goverment ID, as a mean of establishing trust and to ensure that all payments made via the platform are valid transactions. Let's inspect some columns associated with the host verification."
   ]
  },
  {
   "cell_type": "code",
   "execution_count": null,
   "metadata": {},
   "outputs": [],
   "source": [
    "host_verification = host_information.loc[:, ['host_id', 'host_verifications']].reset_index()\n",
    "host_verification.drop(columns ='index', inplace=True)"
   ]
  },
  {
   "cell_type": "code",
   "execution_count": null,
   "metadata": {},
   "outputs": [],
   "source": [
    "host_verification.head(15)"
   ]
  },
  {
   "cell_type": "markdown",
   "metadata": {},
   "source": [
    "Displaying the five first columns of the `host_verification` table allow us to know that for every host ID there are different identification resources or features as email, phone, reviews, facebook, jumio (a verified identification feature that allows people scan and verify their goverment-issued photo ID) and more. Next, verifications are group by feature to know which are mandatory requirements and how many people share extra information, as selfies or facebook profile"
   ]
  },
  {
   "cell_type": "code",
   "execution_count": null,
   "metadata": {},
   "outputs": [],
   "source": [
    "# print('Lenght of data before drop duplicates hosts ID: {}'.format(host_verification.shape[0]))\n",
    "# host_verification.drop_duplicates()\n",
    "# print('Lenght of data after drop duplicates hosts ID: {}'.format(host_verification.shape[0]))"
   ]
  },
  {
   "cell_type": "code",
   "execution_count": null,
   "metadata": {},
   "outputs": [],
   "source": [
    "n = host_verification.shape[0]\n",
    "dict_verification = {}\n",
    "\n",
    "for i in range(n):\n",
    "    verification = host_verification.host_verifications[i]\n",
    "    if verification != 'None':\n",
    "        list_verification = verification.replace('[', '').replace(']', '').replace(\" \", \"\").split(',')\n",
    "        for j in list_verification:\n",
    "            if len(j) > 1:\n",
    "                j = j.replace(\"'\", \"\")\n",
    "                if j in dict_verification.keys():\n",
    "                    dict_verification[j] += 1\n",
    "                else:\n",
    "                    dict_verification[j] = 1"
   ]
  },
  {
   "cell_type": "code",
   "execution_count": null,
   "metadata": {},
   "outputs": [],
   "source": [
    "for key, value in dict_verification.items():\n",
    "    print(key, value)"
   ]
  },
  {
   "cell_type": "code",
   "execution_count": null,
   "metadata": {},
   "outputs": [],
   "source": [
    "new_dict_verification = {}\n",
    "\n",
    "for key, value in dict_verification.items():\n",
    "    if value > 100:\n",
    "        new_dict_verification[key] = value"
   ]
  },
  {
   "cell_type": "code",
   "execution_count": null,
   "metadata": {},
   "outputs": [],
   "source": [
    "plt.figure(figsize=(20,6.5))\n",
    "_ = sns.barplot(x=list(new_dict_verification.keys()), y=list(new_dict_verification.values()), palette='Blues_d')\n",
    "_ = plt.xlabel('Verification Resources', size=12)\n",
    "_ = plt.ylabel('Number of hosts', size=12)\n",
    "_ = plt.title('Types of host verification resources', size=14)"
   ]
  },
  {
   "cell_type": "markdown",
   "metadata": {},
   "source": [
    "Guests need a phone number to contact hosts, therefore it makes sense this feature is mandatory. Email is the most popular verification system in almost all the applications that require the creation of an account or profile. Reviews are essencial to confirm identification during the time to be sure that the original host is still there replying reviews and jumio, as we described before, allow people to scan their goverment ID for online verification. More hosts use more online goverment verification than of offline and selfies, facebook, google and manual identification are less completed."
   ]
  },
  {
   "cell_type": "code",
   "execution_count": null,
   "metadata": {},
   "outputs": [],
   "source": [
    "host_information.shape[0]"
   ]
  },
  {
   "cell_type": "markdown",
   "metadata": {},
   "source": [
    "1. General information. Create a summary in empty listings using the information in the rest of columns (description, space, experiences_offered, neighborhood overview, notes, transit, access, interaction, house_rules)\n",
    "2. Analisis of host: from 'host_id' to 'host_identity_verified'\n",
    "3. Analisis of neighborhood: from 'street' to 'is_location_exact'\n",
    "4. Details of property and conditions: from 'property_type' to ;maximum_nights_avg_ntm'\n",
    "\n",
    "2. Analisis of security checks: require guest profile picture, phone verification, cancellation policy, instant bookeable\n",
    "3. Neighborhood overview with respect to the demand (reviews, rating)\n",
    "4. Type of host: entire home, private rooms, shared rooms and guest perception of them (People prefer any of them in determine seasons, neighborhood, etc)"
   ]
  },
  {
   "cell_type": "code",
   "execution_count": null,
   "metadata": {},
   "outputs": [],
   "source": [
    "#sns.distplot(listing_counts.index, kde=False)\n",
    "# _ = plt.hist(listing_counts.index, bins=30, facecolor='g', alpha=0.75)"
   ]
  },
  {
   "cell_type": "code",
   "execution_count": null,
   "metadata": {},
   "outputs": [],
   "source": [
    "#host_information.loc[host_information['host_total_listings_count'] == 751]"
   ]
  }
 ],
 "metadata": {
  "kernelspec": {
   "display_name": "Python 3",
   "language": "python",
   "name": "python3"
  },
  "language_info": {
   "codemirror_mode": {
    "name": "ipython",
    "version": 3
   },
   "file_extension": ".py",
   "mimetype": "text/x-python",
   "name": "python",
   "nbconvert_exporter": "python",
   "pygments_lexer": "ipython3",
   "version": "3.7.1"
  }
 },
 "nbformat": 4,
 "nbformat_minor": 2
}
