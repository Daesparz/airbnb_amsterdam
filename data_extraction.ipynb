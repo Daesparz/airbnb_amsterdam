{
 "cells": [
  {
   "cell_type": "markdown",
   "metadata": {},
   "source": [
    "# Amsterdam Listing"
   ]
  },
  {
   "cell_type": "markdown",
   "metadata": {},
   "source": [
    "Let's import useful packages:"
   ]
  },
  {
   "cell_type": "code",
   "execution_count": 1,
   "metadata": {},
   "outputs": [],
   "source": [
    "import gzip\n",
    "import json\n",
    "import csv\n",
    "import pandas as pd"
   ]
  },
  {
   "cell_type": "code",
   "execution_count": 2,
   "metadata": {},
   "outputs": [],
   "source": [
    "import seaborn as sns\n",
    "import matplotlib.pyplot as plt"
   ]
  },
  {
   "cell_type": "code",
   "execution_count": 3,
   "metadata": {},
   "outputs": [],
   "source": [
    "import numpy as np"
   ]
  },
  {
   "cell_type": "markdown",
   "metadata": {},
   "source": [
    "Pandas is a powerful and flexible library. Specifying the compression type we are able to read gzip files, a compression for huge csv files. In this case, we have set low memory as False because some columns have mixed types. Another recommendation is to establish the data types, but in csv there is not a complement file or extra information to know that."
   ]
  },
  {
   "cell_type": "code",
   "execution_count": 4,
   "metadata": {},
   "outputs": [],
   "source": [
    "listing = pd.read_csv('dataset/listings.csv.gz', compression='gzip',\n",
    "                   error_bad_lines=False, low_memory=False)"
   ]
  },
  {
   "cell_type": "markdown",
   "metadata": {},
   "source": [
    "`info()` and `head()` provide us the big picture of listing data"
   ]
  },
  {
   "cell_type": "code",
   "execution_count": 5,
   "metadata": {},
   "outputs": [
    {
     "name": "stdout",
     "output_type": "stream",
     "text": [
      "<class 'pandas.core.frame.DataFrame'>\n",
      "RangeIndex: 20025 entries, 0 to 20024\n",
      "Columns: 106 entries, id to reviews_per_month\n",
      "dtypes: float64(23), int64(21), object(62)\n",
      "memory usage: 16.2+ MB\n"
     ]
    }
   ],
   "source": [
    "listing.info()"
   ]
  },
  {
   "cell_type": "code",
   "execution_count": 6,
   "metadata": {},
   "outputs": [],
   "source": [
    "listing.drop_duplicates(inplace=True)"
   ]
  },
  {
   "cell_type": "code",
   "execution_count": 7,
   "metadata": {},
   "outputs": [
    {
     "name": "stdout",
     "output_type": "stream",
     "text": [
      "<class 'pandas.core.frame.DataFrame'>\n",
      "Int64Index: 20025 entries, 0 to 20024\n",
      "Columns: 106 entries, id to reviews_per_month\n",
      "dtypes: float64(23), int64(21), object(62)\n",
      "memory usage: 16.3+ MB\n"
     ]
    }
   ],
   "source": [
    "listing.info()"
   ]
  },
  {
   "cell_type": "code",
   "execution_count": 8,
   "metadata": {},
   "outputs": [
    {
     "data": {
      "text/html": [
       "<div>\n",
       "<style scoped>\n",
       "    .dataframe tbody tr th:only-of-type {\n",
       "        vertical-align: middle;\n",
       "    }\n",
       "\n",
       "    .dataframe tbody tr th {\n",
       "        vertical-align: top;\n",
       "    }\n",
       "\n",
       "    .dataframe thead th {\n",
       "        text-align: right;\n",
       "    }\n",
       "</style>\n",
       "<table border=\"1\" class=\"dataframe\">\n",
       "  <thead>\n",
       "    <tr style=\"text-align: right;\">\n",
       "      <th></th>\n",
       "      <th>id</th>\n",
       "      <th>listing_url</th>\n",
       "      <th>scrape_id</th>\n",
       "      <th>last_scraped</th>\n",
       "      <th>name</th>\n",
       "      <th>summary</th>\n",
       "      <th>space</th>\n",
       "      <th>description</th>\n",
       "      <th>experiences_offered</th>\n",
       "      <th>neighborhood_overview</th>\n",
       "      <th>...</th>\n",
       "      <th>instant_bookable</th>\n",
       "      <th>is_business_travel_ready</th>\n",
       "      <th>cancellation_policy</th>\n",
       "      <th>require_guest_profile_picture</th>\n",
       "      <th>require_guest_phone_verification</th>\n",
       "      <th>calculated_host_listings_count</th>\n",
       "      <th>calculated_host_listings_count_entire_homes</th>\n",
       "      <th>calculated_host_listings_count_private_rooms</th>\n",
       "      <th>calculated_host_listings_count_shared_rooms</th>\n",
       "      <th>reviews_per_month</th>\n",
       "    </tr>\n",
       "  </thead>\n",
       "  <tbody>\n",
       "    <tr>\n",
       "      <th>0</th>\n",
       "      <td>2818</td>\n",
       "      <td>https://www.airbnb.com/rooms/2818</td>\n",
       "      <td>20191207212953</td>\n",
       "      <td>2019-12-08</td>\n",
       "      <td>Quiet Garden View Room &amp; Super Fast WiFi</td>\n",
       "      <td>Quiet Garden View Room &amp; Super Fast WiFi</td>\n",
       "      <td>I'm renting a bedroom (room overlooking the ga...</td>\n",
       "      <td>Quiet Garden View Room &amp; Super Fast WiFi I'm r...</td>\n",
       "      <td>none</td>\n",
       "      <td>Indische Buurt (\"Indies Neighborhood\") is a ne...</td>\n",
       "      <td>...</td>\n",
       "      <td>t</td>\n",
       "      <td>f</td>\n",
       "      <td>strict_14_with_grace_period</td>\n",
       "      <td>f</td>\n",
       "      <td>f</td>\n",
       "      <td>1</td>\n",
       "      <td>0</td>\n",
       "      <td>1</td>\n",
       "      <td>0</td>\n",
       "      <td>2.13</td>\n",
       "    </tr>\n",
       "    <tr>\n",
       "      <th>1</th>\n",
       "      <td>20168</td>\n",
       "      <td>https://www.airbnb.com/rooms/20168</td>\n",
       "      <td>20191207212953</td>\n",
       "      <td>2019-12-08</td>\n",
       "      <td>Studio with private bathroom in the centre 1</td>\n",
       "      <td>17th century Dutch townhouse in the heart of t...</td>\n",
       "      <td>For those who like all facets of city life. In...</td>\n",
       "      <td>17th century Dutch townhouse in the heart of t...</td>\n",
       "      <td>none</td>\n",
       "      <td>Located just in between famous central canals....</td>\n",
       "      <td>...</td>\n",
       "      <td>f</td>\n",
       "      <td>f</td>\n",
       "      <td>strict_14_with_grace_period</td>\n",
       "      <td>f</td>\n",
       "      <td>f</td>\n",
       "      <td>2</td>\n",
       "      <td>0</td>\n",
       "      <td>2</td>\n",
       "      <td>0</td>\n",
       "      <td>2.57</td>\n",
       "    </tr>\n",
       "    <tr>\n",
       "      <th>2</th>\n",
       "      <td>25428</td>\n",
       "      <td>https://www.airbnb.com/rooms/25428</td>\n",
       "      <td>20191207212953</td>\n",
       "      <td>2019-12-08</td>\n",
       "      <td>Lovely apt in City Centre (w.lift) near Jordaan</td>\n",
       "      <td>NaN</td>\n",
       "      <td>This nicely furnished, newly renovated apt  is...</td>\n",
       "      <td>This nicely furnished, newly renovated apt  is...</td>\n",
       "      <td>none</td>\n",
       "      <td>NaN</td>\n",
       "      <td>...</td>\n",
       "      <td>f</td>\n",
       "      <td>f</td>\n",
       "      <td>strict_14_with_grace_period</td>\n",
       "      <td>f</td>\n",
       "      <td>f</td>\n",
       "      <td>2</td>\n",
       "      <td>2</td>\n",
       "      <td>0</td>\n",
       "      <td>0</td>\n",
       "      <td>0.13</td>\n",
       "    </tr>\n",
       "    <tr>\n",
       "      <th>3</th>\n",
       "      <td>27886</td>\n",
       "      <td>https://www.airbnb.com/rooms/27886</td>\n",
       "      <td>20191207212953</td>\n",
       "      <td>2019-12-08</td>\n",
       "      <td>Romantic, stylish B&amp;B houseboat in canal district</td>\n",
       "      <td>Stylish and romantic houseboat on fantastic hi...</td>\n",
       "      <td>For a romantic couple: A beautifully restored ...</td>\n",
       "      <td>Stylish and romantic houseboat on fantastic hi...</td>\n",
       "      <td>none</td>\n",
       "      <td>Central, quiet, safe, clean and beautiful.</td>\n",
       "      <td>...</td>\n",
       "      <td>t</td>\n",
       "      <td>f</td>\n",
       "      <td>strict_14_with_grace_period</td>\n",
       "      <td>f</td>\n",
       "      <td>f</td>\n",
       "      <td>1</td>\n",
       "      <td>0</td>\n",
       "      <td>1</td>\n",
       "      <td>0</td>\n",
       "      <td>2.14</td>\n",
       "    </tr>\n",
       "    <tr>\n",
       "      <th>4</th>\n",
       "      <td>28871</td>\n",
       "      <td>https://www.airbnb.com/rooms/28871</td>\n",
       "      <td>20191207212953</td>\n",
       "      <td>2019-12-08</td>\n",
       "      <td>Comfortable double room</td>\n",
       "      <td>NaN</td>\n",
       "      <td>In a monumental house right in the center of A...</td>\n",
       "      <td>In a monumental house right in the center of A...</td>\n",
       "      <td>none</td>\n",
       "      <td>NaN</td>\n",
       "      <td>...</td>\n",
       "      <td>f</td>\n",
       "      <td>f</td>\n",
       "      <td>moderate</td>\n",
       "      <td>f</td>\n",
       "      <td>f</td>\n",
       "      <td>3</td>\n",
       "      <td>0</td>\n",
       "      <td>3</td>\n",
       "      <td>0</td>\n",
       "      <td>2.81</td>\n",
       "    </tr>\n",
       "  </tbody>\n",
       "</table>\n",
       "<p>5 rows × 106 columns</p>\n",
       "</div>"
      ],
      "text/plain": [
       "      id                         listing_url       scrape_id last_scraped  \\\n",
       "0   2818   https://www.airbnb.com/rooms/2818  20191207212953   2019-12-08   \n",
       "1  20168  https://www.airbnb.com/rooms/20168  20191207212953   2019-12-08   \n",
       "2  25428  https://www.airbnb.com/rooms/25428  20191207212953   2019-12-08   \n",
       "3  27886  https://www.airbnb.com/rooms/27886  20191207212953   2019-12-08   \n",
       "4  28871  https://www.airbnb.com/rooms/28871  20191207212953   2019-12-08   \n",
       "\n",
       "                                                name  \\\n",
       "0           Quiet Garden View Room & Super Fast WiFi   \n",
       "1       Studio with private bathroom in the centre 1   \n",
       "2    Lovely apt in City Centre (w.lift) near Jordaan   \n",
       "3  Romantic, stylish B&B houseboat in canal district   \n",
       "4                            Comfortable double room   \n",
       "\n",
       "                                             summary  \\\n",
       "0           Quiet Garden View Room & Super Fast WiFi   \n",
       "1  17th century Dutch townhouse in the heart of t...   \n",
       "2                                                NaN   \n",
       "3  Stylish and romantic houseboat on fantastic hi...   \n",
       "4                                                NaN   \n",
       "\n",
       "                                               space  \\\n",
       "0  I'm renting a bedroom (room overlooking the ga...   \n",
       "1  For those who like all facets of city life. In...   \n",
       "2  This nicely furnished, newly renovated apt  is...   \n",
       "3  For a romantic couple: A beautifully restored ...   \n",
       "4  In a monumental house right in the center of A...   \n",
       "\n",
       "                                         description experiences_offered  \\\n",
       "0  Quiet Garden View Room & Super Fast WiFi I'm r...                none   \n",
       "1  17th century Dutch townhouse in the heart of t...                none   \n",
       "2  This nicely furnished, newly renovated apt  is...                none   \n",
       "3  Stylish and romantic houseboat on fantastic hi...                none   \n",
       "4  In a monumental house right in the center of A...                none   \n",
       "\n",
       "                               neighborhood_overview        ...          \\\n",
       "0  Indische Buurt (\"Indies Neighborhood\") is a ne...        ...           \n",
       "1  Located just in between famous central canals....        ...           \n",
       "2                                                NaN        ...           \n",
       "3         Central, quiet, safe, clean and beautiful.        ...           \n",
       "4                                                NaN        ...           \n",
       "\n",
       "  instant_bookable is_business_travel_ready          cancellation_policy  \\\n",
       "0                t                        f  strict_14_with_grace_period   \n",
       "1                f                        f  strict_14_with_grace_period   \n",
       "2                f                        f  strict_14_with_grace_period   \n",
       "3                t                        f  strict_14_with_grace_period   \n",
       "4                f                        f                     moderate   \n",
       "\n",
       "  require_guest_profile_picture require_guest_phone_verification  \\\n",
       "0                             f                                f   \n",
       "1                             f                                f   \n",
       "2                             f                                f   \n",
       "3                             f                                f   \n",
       "4                             f                                f   \n",
       "\n",
       "   calculated_host_listings_count  \\\n",
       "0                               1   \n",
       "1                               2   \n",
       "2                               2   \n",
       "3                               1   \n",
       "4                               3   \n",
       "\n",
       "   calculated_host_listings_count_entire_homes  \\\n",
       "0                                            0   \n",
       "1                                            0   \n",
       "2                                            2   \n",
       "3                                            0   \n",
       "4                                            0   \n",
       "\n",
       "  calculated_host_listings_count_private_rooms  \\\n",
       "0                                            1   \n",
       "1                                            2   \n",
       "2                                            0   \n",
       "3                                            1   \n",
       "4                                            3   \n",
       "\n",
       "   calculated_host_listings_count_shared_rooms  reviews_per_month  \n",
       "0                                            0               2.13  \n",
       "1                                            0               2.57  \n",
       "2                                            0               0.13  \n",
       "3                                            0               2.14  \n",
       "4                                            0               2.81  \n",
       "\n",
       "[5 rows x 106 columns]"
      ]
     },
     "execution_count": 8,
     "metadata": {},
     "output_type": "execute_result"
    }
   ],
   "source": [
    "listing.head()"
   ]
  },
  {
   "cell_type": "markdown",
   "metadata": {},
   "source": [
    "A brief inspection of columns enable us to split them according to the following **different categories of information**:\n",
    "\n",
    "1. **General information of booking**: id, name, summary, description, space, experiences_offered, neighborhood overview, notes, transit, access, interaction, house_rules. To access that, select columns from `id` to `house_rules`.\n",
    "\n",
    "2. **Host information**: id, name, location, about, response time, response rate, acceptance rate, listings count, verifications. In this case, select columns from `host_id` to `host_identity_verified`.\n",
    "\n",
    "3. All about the **neighborhood**: city, state, market, cleansed. Extract this information selecting columns from `street` to `is_location_exact`.\n",
    "\n",
    "4. Details of **property and conditions** are between the columns `property_type` and `maximum_nights_avg_ntm`.\n",
    "\n",
    "5. **Calendar updates and availability** the next 30, 60 and 90 days, for instances. You can find this information between the columns `calendar_updated` and `calendar_last_scraped`.\n",
    "\n",
    "6. **Reviews**: first and last review, number of reviews, scores rating, scores per accuracy, cleanliness, checkin, communication, location and value. Columns from `number of reviews` to `review_scores_value`.\n",
    "\n",
    "7. **Verifications and licenses**: require guest profile picture, phone verification, cancellation policy, instant bookeable. Columns from `requires_license` to `require_guest_phone_verification`.\n",
    "\n",
    "8. **Host listings counts** and reviews per month. Select from `calculated_host_listings_count` to `reviews_per_month`."
   ]
  },
  {
   "cell_type": "markdown",
   "metadata": {},
   "source": [
    "## 1. General information of booking"
   ]
  },
  {
   "cell_type": "markdown",
   "metadata": {},
   "source": [
    "This section will be develop in details in further notebooks to apply Natural Language Processing to resolve the following challenges:\n",
    "\n",
    "1. Empty summaries: Can we use the rest columns to create a summary for litings without one?\n",
    "2. Common elements in Transit \n",
    "3. Common elements in house rules"
   ]
  },
  {
   "cell_type": "code",
   "execution_count": 9,
   "metadata": {},
   "outputs": [],
   "source": [
    "booking_records = listing.loc[:, 'id':'house_rules']"
   ]
  },
  {
   "cell_type": "code",
   "execution_count": 10,
   "metadata": {},
   "outputs": [
    {
     "name": "stdout",
     "output_type": "stream",
     "text": [
      "<class 'pandas.core.frame.DataFrame'>\n",
      "Int64Index: 20025 entries, 0 to 20024\n",
      "Data columns (total 15 columns):\n",
      "id                       20025 non-null int64\n",
      "listing_url              20025 non-null object\n",
      "scrape_id                20025 non-null int64\n",
      "last_scraped             20025 non-null object\n",
      "name                     19991 non-null object\n",
      "summary                  19390 non-null object\n",
      "space                    14654 non-null object\n",
      "description              19783 non-null object\n",
      "experiences_offered      20025 non-null object\n",
      "neighborhood_overview    13641 non-null object\n",
      "notes                    8389 non-null object\n",
      "transit                  13922 non-null object\n",
      "access                   11334 non-null object\n",
      "interaction              12094 non-null object\n",
      "house_rules              12215 non-null object\n",
      "dtypes: int64(2), object(13)\n",
      "memory usage: 2.4+ MB\n"
     ]
    }
   ],
   "source": [
    "booking_records.info()"
   ]
  },
  {
   "cell_type": "markdown",
   "metadata": {},
   "source": [
    "## 2. Host Information"
   ]
  },
  {
   "cell_type": "code",
   "execution_count": 11,
   "metadata": {},
   "outputs": [],
   "source": [
    "host_information = listing.loc[:, 'host_id': 'host_identity_verified']"
   ]
  },
  {
   "cell_type": "code",
   "execution_count": 12,
   "metadata": {},
   "outputs": [],
   "source": [
    "host_information.drop_duplicates(inplace=True)"
   ]
  },
  {
   "cell_type": "code",
   "execution_count": 13,
   "metadata": {},
   "outputs": [
    {
     "name": "stdout",
     "output_type": "stream",
     "text": [
      "<class 'pandas.core.frame.DataFrame'>\n",
      "Int64Index: 17502 entries, 0 to 20024\n",
      "Data columns (total 18 columns):\n",
      "host_id                      17502 non-null int64\n",
      "host_url                     17502 non-null object\n",
      "host_name                    17353 non-null object\n",
      "host_since                   17353 non-null object\n",
      "host_location                17321 non-null object\n",
      "host_about                   9780 non-null object\n",
      "host_response_time           8549 non-null object\n",
      "host_response_rate           8549 non-null object\n",
      "host_acceptance_rate         0 non-null float64\n",
      "host_is_superhost            17353 non-null object\n",
      "host_thumbnail_url           17353 non-null object\n",
      "host_picture_url             17353 non-null object\n",
      "host_neighbourhood           12048 non-null object\n",
      "host_listings_count          17353 non-null float64\n",
      "host_total_listings_count    17353 non-null float64\n",
      "host_verifications           17502 non-null object\n",
      "host_has_profile_pic         17353 non-null object\n",
      "host_identity_verified       17353 non-null object\n",
      "dtypes: float64(3), int64(1), object(14)\n",
      "memory usage: 2.5+ MB\n"
     ]
    }
   ],
   "source": [
    "host_information.info()"
   ]
  },
  {
   "cell_type": "markdown",
   "metadata": {},
   "source": [
    "### How many listings/host?"
   ]
  },
  {
   "cell_type": "markdown",
   "metadata": {},
   "source": [
    "To avoid duplicates host_id, we select only host_id and total_listing_count, deleting the duplicates:"
   ]
  },
  {
   "cell_type": "code",
   "execution_count": 14,
   "metadata": {},
   "outputs": [],
   "source": [
    "unique_host_listings = host_information.loc[:, ['host_id', 'host_total_listings_count']].reindex().drop_duplicates().dropna()"
   ]
  },
  {
   "cell_type": "code",
   "execution_count": 15,
   "metadata": {},
   "outputs": [],
   "source": [
    "total_listings_count = unique_host_listings.groupby('host_total_listings_count').count()"
   ]
  },
  {
   "cell_type": "markdown",
   "metadata": {},
   "source": [
    "Graphical identification of outliers:"
   ]
  },
  {
   "cell_type": "code",
   "execution_count": 16,
   "metadata": {},
   "outputs": [
    {
     "name": "stderr",
     "output_type": "stream",
     "text": [
      "/Users/daniela/anaconda3/lib/python3.7/site-packages/matplotlib/axes/_base.py:3099: UserWarning: Attempting to set identical left==right results\n",
      "in singular transformations; automatically expanding.\n",
      "left=1.0, right=1.0\n",
      "  self.set_xlim(upper, lower, auto=None)\n"
     ]
    },
    {
     "data": {
      "image/png": "[encoded data removed]",
      "text/plain": [
       "<Figure size 432x288 with 1 Axes>"
      ]
     },
     "metadata": {
      "needs_background": "light"
     },
     "output_type": "display_data"
    }
   ],
   "source": [
    "_ = plt.xscale('log')\n",
    "_ = sns.boxplot(total_listings_count)\n",
    "_ = plt.xlabel('Number of listings')\n",
    "_ = plt.title('Boxplot of listings/host')"
   ]
  },
  {
   "cell_type": "markdown",
   "metadata": {},
   "source": [
    "Almost all hosts have less than ten listings, but some results are a little unusual. The information is correct and it belongs to hotels chains, global marketplaces and home rental management companies. The most interesting aspect of that is their airbnb profiles look exactly the same of the rest of hosts. There is no extra information about the companies, avoiding the self promotion."
   ]
  },
  {
   "cell_type": "code",
   "execution_count": 17,
   "metadata": {},
   "outputs": [],
   "source": [
    "listing_counts = total_listings_count[(total_listings_count.index > 0) & (total_listings_count.index < 60)]"
   ]
  },
  {
   "cell_type": "code",
   "execution_count": 18,
   "metadata": {},
   "outputs": [
    {
     "data": {
      "image/png": "[encoded data removed]",
      "text/plain": [
       "<Figure size 2160x720 with 1 Axes>"
      ]
     },
     "metadata": {
      "needs_background": "light"
     },
     "output_type": "display_data"
    }
   ],
   "source": [
    "_ = plt.figure(figsize=(30,10))\n",
    "_ = plt.yscale('log')\n",
    "_ = sns.barplot(x=listing_counts.index, y=listing_counts.host_id, palette=\"rocket\")\n",
    "_ = plt.xlabel('Hosts', size=16)\n",
    "_ = plt.ylabel('Listings', size=16)\n",
    "_ = plt.title('Distribution of listings/host', size=20)"
   ]
  },
  {
   "cell_type": "markdown",
   "metadata": {},
   "source": [
    "### Response Time of Hosts\n",
    "\n",
    "There are 4 categories of response time:"
   ]
  },
  {
   "cell_type": "code",
   "execution_count": 19,
   "metadata": {},
   "outputs": [
    {
     "data": {
      "text/plain": [
       "host_response_time\n",
       "a few days or more     327\n",
       "within a day          2123\n",
       "within a few hours    2170\n",
       "within an hour        3929\n",
       "Name: host_id, dtype: int64"
      ]
     },
     "execution_count": 19,
     "metadata": {},
     "output_type": "execute_result"
    }
   ],
   "source": [
    "response_time = host_information.groupby('host_response_time').count().host_id\n",
    "response_time"
   ]
  },
  {
   "cell_type": "code",
   "execution_count": 123,
   "metadata": {},
   "outputs": [
    {
     "data": {
      "image/png": "[encoded data removed]",
      "text/plain": [
       "<Figure size 576x288 with 1 Axes>"
      ]
     },
     "metadata": {},
     "output_type": "display_data"
    }
   ],
   "source": [
    "_ = plt.figure(figsize=(8, 4))\n",
    "_ = sns.barplot(x=response_time.index, y=response_time, palette='pastel')\n",
    "_ = plt.xlabel('Response time', size=10)\n",
    "_ = plt.ylabel('Number of hosts', size=10)\n",
    "_ = plt.title('Response time of hosts', size=14)"
   ]
  },
  {
   "cell_type": "markdown",
   "metadata": {},
   "source": [
    "And in percentages:"
   ]
  },
  {
   "cell_type": "code",
   "execution_count": 21,
   "metadata": {},
   "outputs": [
    {
     "data": {
      "text/plain": [
       "host_response_time\n",
       "a few days or more     3.825009\n",
       "within a day          24.833314\n",
       "within a few hours    25.383086\n",
       "within an hour        45.958592\n",
       "Name: host_id, dtype: float64"
      ]
     },
     "execution_count": 21,
     "metadata": {},
     "output_type": "execute_result"
    }
   ],
   "source": [
    "100*response_time/response_time.sum()"
   ]
  },
  {
   "cell_type": "markdown",
   "metadata": {},
   "source": [
    "According to Airbnb, the response time is the average time that hosts take to respond to all messages in the last 30 days. This includes reservation requests, pre-approve and decline trip requests and reply new inquiries from guests and doesn't consider the follow-up messages between hosts and guests. \n",
    "\n",
    "From the Figure below it's possible conclude that hosts response quickly to their guests: about 46% of hosts reply their requests within an hour; approximately 50% of them take a few or more hours within the same day of the request and finally, almost 4% of hosts respond a few days later or more."
   ]
  },
  {
   "cell_type": "markdown",
   "metadata": {},
   "source": [
    "### Response Rate of Hosts"
   ]
  },
  {
   "cell_type": "markdown",
   "metadata": {},
   "source": [
    "The response rate is the percentage of new requests (reservations and inquiries) that the hosts responded within 24 hours in the past 30 days. Neither response time or response rate consider the follow-up messages between hosts and guests."
   ]
  },
  {
   "cell_type": "code",
   "execution_count": 22,
   "metadata": {},
   "outputs": [],
   "source": [
    "def str_rate2int(rate):\n",
    "    if type(rate) is str:\n",
    "        return float(rate.replace(\"%\", \"\"))\n",
    "    else:\n",
    "        return rate "
   ]
  },
  {
   "cell_type": "code",
   "execution_count": 23,
   "metadata": {},
   "outputs": [],
   "source": [
    "host_information['host_response_rate_float'] = host_information.host_response_rate.apply(str_rate2int).dropna()"
   ]
  },
  {
   "cell_type": "code",
   "execution_count": 24,
   "metadata": {},
   "outputs": [],
   "source": [
    "response_rate = host_information.groupby('host_response_rate_float').count().host_id"
   ]
  },
  {
   "cell_type": "code",
   "execution_count": 122,
   "metadata": {},
   "outputs": [
    {
     "data": {
      "image/png": "[encoded data removed]",
      "text/plain": [
       "<Figure size 432x576 with 1 Axes>"
      ]
     },
     "metadata": {},
     "output_type": "display_data"
    }
   ],
   "source": [
    "np.warnings.filterwarnings('ignore')\n",
    "\n",
    "_ = plt.figure(figsize=(6,8))\n",
    "_ = plt.hist(host_information['host_response_rate_float'], color='cornflowerblue')\n",
    "_ = plt.xlabel('Response Rate', size=12)\n",
    "_ = plt.ylabel('Number of Hosts', size=12)\n",
    "_ = plt.title('Distribution of Response Rate', size=14)"
   ]
  },
  {
   "cell_type": "code",
   "execution_count": 26,
   "metadata": {},
   "outputs": [],
   "source": [
    "response_rate_percent = response_rate/response_rate.sum()"
   ]
  },
  {
   "cell_type": "code",
   "execution_count": 27,
   "metadata": {},
   "outputs": [
    {
     "name": "stdout",
     "output_type": "stream",
     "text": [
      "Percentage of Hosts with a Response Rate of 100% the last 30 days: 0.79646742309042%\n"
     ]
    }
   ],
   "source": [
    "print('Percentage of Hosts with a Response Rate of 100% the last 30 days: {}%'.format(response_rate_percent[100]))"
   ]
  },
  {
   "cell_type": "markdown",
   "metadata": {},
   "source": [
    "80% of hosts have respond all their messages within 24 hours the last month."
   ]
  },
  {
   "cell_type": "markdown",
   "metadata": {},
   "source": [
    "### What does \"Superhost\" mean?"
   ]
  },
  {
   "cell_type": "markdown",
   "metadata": {},
   "source": [
    "Superhost is a status that hosts receive for good performance during the last 12 months. Some requirements include complete a specific number of trips, higher response rate, a minimum cancellation rate and an excelent overall rating. Let's see how difficult is to get this status."
   ]
  },
  {
   "cell_type": "code",
   "execution_count": 28,
   "metadata": {},
   "outputs": [],
   "source": [
    "def str2boolean(row):\n",
    "    if row == 't':\n",
    "        return True\n",
    "    elif row == 'f':\n",
    "        return False\n",
    "    else:\n",
    "        return np.nan"
   ]
  },
  {
   "cell_type": "code",
   "execution_count": 29,
   "metadata": {},
   "outputs": [],
   "source": [
    "host_information['host_is_superhost_boolean'] = host_information.host_is_superhost.apply(str2boolean)"
   ]
  },
  {
   "cell_type": "code",
   "execution_count": 30,
   "metadata": {},
   "outputs": [],
   "source": [
    "super_host = host_information.groupby('host_is_superhost_boolean').count().host_id"
   ]
  },
  {
   "cell_type": "code",
   "execution_count": 31,
   "metadata": {},
   "outputs": [
    {
     "data": {
      "text/plain": [
       "host_is_superhost_boolean\n",
       "False    0.858872\n",
       "True     0.141128\n",
       "Name: host_id, dtype: float64"
      ]
     },
     "execution_count": 31,
     "metadata": {},
     "output_type": "execute_result"
    }
   ],
   "source": [
    "super_host/super_host.sum()"
   ]
  },
  {
   "cell_type": "code",
   "execution_count": 120,
   "metadata": {},
   "outputs": [
    {
     "data": {
      "image/png": "[encoded data removed]",
      "text/plain": [
       "<Figure size 432x432 with 1 Axes>"
      ]
     },
     "metadata": {},
     "output_type": "display_data"
    }
   ],
   "source": [
    "_ = plt.figure(figsize=(6, 6))\n",
    "_ = sns.barplot(x =super_host.index, y =super_host, palette='pastel')\n",
    "_ = plt.xlabel('Super Host status', size=10)\n",
    "_ = plt.ylabel('Number of hosts', size=10)\n",
    "_ = plt.title('Super Hosts', size=14)"
   ]
  },
  {
   "cell_type": "markdown",
   "metadata": {},
   "source": [
    "Considering all the requirements to be a superhost is razonable that only 14% of them achieve this status. How higher the response rate is supposed to be to qualify as superhost?"
   ]
  },
  {
   "cell_type": "code",
   "execution_count": 33,
   "metadata": {},
   "outputs": [],
   "source": [
    "sub_listings_50 = host_information[host_information.host_total_listings_count <= 50]"
   ]
  },
  {
   "cell_type": "code",
   "execution_count": 125,
   "metadata": {},
   "outputs": [
    {
     "data": {
      "image/png": "[encoded data removed]",
      "text/plain": [
       "<Figure size 432x432 with 1 Axes>"
      ]
     },
     "metadata": {},
     "output_type": "display_data"
    }
   ],
   "source": [
    "_ = sns.set(style=\"ticks\", palette=\"Set2\")\n",
    "\n",
    "f, ax = plt.subplots(figsize=(6, 6))\n",
    "_ = sns.despine(f, left=True, bottom=True)\n",
    "_ = sns.scatterplot(x=\"host_response_rate_float\",\n",
    "                    y=\"host_total_listings_count\", \n",
    "                    hue=\"host_is_superhost_boolean\",\n",
    "                    data=sub_listings_50, ax=ax)\n",
    "_ = sns.despine(offset=10, trim=True)"
   ]
  },
  {
   "cell_type": "markdown",
   "metadata": {},
   "source": [
    "### Neighborhoods in Amsterdam"
   ]
  },
  {
   "cell_type": "markdown",
   "metadata": {},
   "source": [
    "Amsterdam, a cosmopolitan city with a population around 860 thousands of people, more than 2500 bridges, 165 canals and almost 8900 past centuries built heritage, is split into 8 districts which are further divided into unique neighbordhoods. What are the neighborhoods that concentrate more listings on Airbnb?\n",
    "\n",
    "\n",
    "Ref: [ https://www.amsterdamsights.com/about/neighborhoods.html ] "
   ]
  },
  {
   "cell_type": "code",
   "execution_count": 108,
   "metadata": {},
   "outputs": [],
   "source": [
    "host_neighbourhood = host_information.groupby('host_neighbourhood').count()\n",
    "host_neighbourhood_popular = host_neighbourhood[host_neighbourhood.host_id > 100]"
   ]
  },
  {
   "cell_type": "code",
   "execution_count": 109,
   "metadata": {},
   "outputs": [
    {
     "data": {
      "text/plain": [
       "['Amsterdam Centrum',\n",
       " 'Bos en Lommer',\n",
       " 'De Pijp',\n",
       " 'De Wallen',\n",
       " 'Frederik Hendrikbuurt',\n",
       " 'Grachtengordel',\n",
       " 'Hoofddorppleinbuurt',\n",
       " 'IJplein en Vogelbuurt',\n",
       " 'Indische Buurt',\n",
       " 'Jordaan',\n",
       " 'Museumkwartier',\n",
       " 'Nieuwmarkt en Lastage',\n",
       " 'Oost',\n",
       " 'Oostelijke Eilanden en Kadijken',\n",
       " 'Oosterparkbuurt',\n",
       " 'Osdorp',\n",
       " 'Oud-West',\n",
       " 'Oud-Zuid',\n",
       " 'Overtoomse Veld',\n",
       " 'Rivierenbuurt',\n",
       " 'Slotervaart',\n",
       " 'Spaarndammer en Zeeheldenbuurt',\n",
       " 'Stadionbuurt',\n",
       " 'Watergraafsmeer',\n",
       " 'Weesperbuurt en Plantage',\n",
       " 'Westelijke Eilanden',\n",
       " 'Zeeburg']"
      ]
     },
     "execution_count": 109,
     "metadata": {},
     "output_type": "execute_result"
    }
   ],
   "source": [
    "list(host_neighbourhood_popular.index)"
   ]
  },
  {
   "cell_type": "markdown",
   "metadata": {},
   "source": [
    "The list below represents the neighborhoods with more than one hundred of listings. Using that list, we wonder which places have more superhosts:"
   ]
  },
  {
   "cell_type": "code",
   "execution_count": 129,
   "metadata": {},
   "outputs": [],
   "source": [
    "sub_popular_neigh = host_information.loc[host_information['host_neighbourhood'].isin(list(host_neighbourhood_popular.index))]"
   ]
  },
  {
   "cell_type": "code",
   "execution_count": 130,
   "metadata": {},
   "outputs": [],
   "source": [
    "sub_popular_neigh_superhost = sub_popular_neigh[sub_popular_neigh.host_is_superhost_boolean == True]"
   ]
  },
  {
   "cell_type": "code",
   "execution_count": 131,
   "metadata": {},
   "outputs": [
    {
     "data": {
      "text/plain": [
       "host_neighbourhood\n",
       "Oud-West                           331\n",
       "Grachtengordel                     150\n",
       "De Pijp                            144\n",
       "Jordaan                            112\n",
       "Bos en Lommer                       81\n",
       "Oosterparkbuurt                     78\n",
       "Indische Buurt                      67\n",
       "Rivierenbuurt                       51\n",
       "Nieuwmarkt en Lastage               50\n",
       "Amsterdam Centrum                   45\n",
       "Oost                                42\n",
       "Weesperbuurt en Plantage            41\n",
       "De Wallen                           38\n",
       "Zeeburg                             37\n",
       "Westelijke Eilanden                 34\n",
       "Oostelijke Eilanden en Kadijken     33\n",
       "Slotervaart                         30\n",
       "Watergraafsmeer                     30\n",
       "Frederik Hendrikbuurt               30\n",
       "Oud-Zuid                            28\n",
       "Hoofddorppleinbuurt                 28\n",
       "Stadionbuurt                        28\n",
       "Museumkwartier                      27\n",
       "Osdorp                              27\n",
       "Spaarndammer en Zeeheldenbuurt      25\n",
       "IJplein en Vogelbuurt               21\n",
       "Overtoomse Veld                      9\n",
       "Name: host_id, dtype: int64"
      ]
     },
     "execution_count": 131,
     "metadata": {},
     "output_type": "execute_result"
    }
   ],
   "source": [
    "sub_popular_neigh_superhost.groupby('host_neighbourhood').count().sort_values('host_id', ascending=False).host_id"
   ]
  },
  {
   "cell_type": "markdown",
   "metadata": {},
   "source": [
    "Let's explore these results. **Oud-West** "
   ]
  },
  {
   "cell_type": "markdown",
   "metadata": {},
   "source": [
    "**Oud-West**\n",
    "Vondelpark runs down the eastern limits of Oud-West and the neighbourhood is only a short distance away from Amsterdam’s city centre. Despite its centrality, Oud-West is relatively laid-back and features several exceptionally wide streets lined with dozens of trendy bars, restaurants and concert venues. Most of these establishments are spread over Oud-West’s main thoroughfares, namely Overtoom, Kinkerstraat and De Clercqstraat.\n",
    "\n",
    "Each of these roads has its own distinct vibe and its fair share of excellent watering holes. Foodies and cinephiles should definitely stop by De Hallen on Kinkerstraat, which contains a massive indoor food hall where local culinary experts sell their wares, as well as an independent cinema decked out in Art Deco panelling.\n",
    "\n",
    "For foodie couples, Oud-West is the ideal base from which to explore the city.\n",
    "\n",
    "\n",
    "\n",
    "\n",
    "\n",
    "**De Pijp**\n",
    "As with most of Central Amsterdam’s outlying neighbourhoods, for a long time De Pijp housed the city’s working class, and was mainly constructed in the 19th century to fulfil increased demand for housing. Vestiges of this fascinating urban history are still visible throughout De Pijp and the neighbourhood is known for its typical, narrow townhouses, which were originally built to accommodate low-income families.\n",
    "\n",
    "The whole neighbourhood revolves around Amsterdam’s most famous market, Albert Cuyp Markt, which attracts hundreds of visitors every day. Besides these stalls and trestles, De Pijp is also home to many excellent cafés and restaurants, and is well known by locals for its amazing brunch restaurants such as Little Collins, Bakers & Roasters and the Scandinavian Embassy.\n",
    "\n",
    "With its cool boutiques and brunch spots, this area is where trendy twentysomethings like to reside. It’s a little out of town and is the perfect neighbourhood if you want to live like a true Amsterdammer."
   ]
  },
  {
   "cell_type": "code",
   "execution_count": 132,
   "metadata": {},
   "outputs": [],
   "source": [
    "# f, ax = plt.subplots(figsize=(20, 8))\n",
    "# sns.despine(f, left=True, bottom=True)\n",
    "# sns.barplot(sub_popular_neigh_superhost.host_neighbourhood, ax=ax)"
   ]
  },
  {
   "cell_type": "code",
   "execution_count": 133,
   "metadata": {},
   "outputs": [],
   "source": [
    "# cmap = sns.cubehelix_palette(dark=.3, light=.8, as_cmap=True)\n",
    "\n",
    "# f, ax = plt.subplots(figsize=(20, 8))\n",
    "# sns.despine(f, left=True, bottom=True)\n",
    "# sns.scatterplot(y=\"host_total_listings_count\", \n",
    "#                 x=\"host_response_rate_float\",\n",
    "#                 style=\"host_is_superhost_boolean\",\n",
    "#                 hue='host_neighbourhood',\n",
    "#                 sizes=(150, 150),\n",
    "#                 size=\"host_is_superhost_boolean\",\n",
    "#                 palette=\"Set2\",\n",
    "#                 data=sub_popular_neigh, ax=ax)"
   ]
  },
  {
   "cell_type": "markdown",
   "metadata": {},
   "source": [
    "### Hosts Verification\n",
    "\n",
    "\n",
    "Host and guest verification contribute to the security of the community against fraud. Airbnb ask for additional verification periodically to confirm the identity and the age of their users. This identification include update of profiles with recent photos and take a photo of a valid goverment ID, as a mean of establishing trust and to ensure that all payments made via the platform are valid transactions. Let's inspect some columns associated with the host verification."
   ]
  },
  {
   "cell_type": "code",
   "execution_count": 210,
   "metadata": {},
   "outputs": [],
   "source": [
    "host_verification = host_information.loc[:, ['host_id', 'host_verifications']].reset_index()\n",
    "host_verification.drop(columns ='index', inplace=True)"
   ]
  },
  {
   "cell_type": "code",
   "execution_count": 213,
   "metadata": {},
   "outputs": [
    {
     "data": {
      "text/html": [
       "<div>\n",
       "<style scoped>\n",
       "    .dataframe tbody tr th:only-of-type {\n",
       "        vertical-align: middle;\n",
       "    }\n",
       "\n",
       "    .dataframe tbody tr th {\n",
       "        vertical-align: top;\n",
       "    }\n",
       "\n",
       "    .dataframe thead th {\n",
       "        text-align: right;\n",
       "    }\n",
       "</style>\n",
       "<table border=\"1\" class=\"dataframe\">\n",
       "  <thead>\n",
       "    <tr style=\"text-align: right;\">\n",
       "      <th></th>\n",
       "      <th>host_id</th>\n",
       "      <th>host_verifications</th>\n",
       "    </tr>\n",
       "  </thead>\n",
       "  <tbody>\n",
       "    <tr>\n",
       "      <th>0</th>\n",
       "      <td>3159</td>\n",
       "      <td>['email', 'phone', 'reviews', 'jumio', 'offlin...</td>\n",
       "    </tr>\n",
       "    <tr>\n",
       "      <th>1</th>\n",
       "      <td>59484</td>\n",
       "      <td>['email', 'phone', 'reviews', 'jumio', 'offlin...</td>\n",
       "    </tr>\n",
       "    <tr>\n",
       "      <th>2</th>\n",
       "      <td>56142</td>\n",
       "      <td>['email', 'phone', 'reviews']</td>\n",
       "    </tr>\n",
       "    <tr>\n",
       "      <th>3</th>\n",
       "      <td>97647</td>\n",
       "      <td>['email', 'phone', 'reviews', 'jumio']</td>\n",
       "    </tr>\n",
       "    <tr>\n",
       "      <th>4</th>\n",
       "      <td>124245</td>\n",
       "      <td>['email', 'phone', 'reviews', 'jumio']</td>\n",
       "    </tr>\n",
       "    <tr>\n",
       "      <th>5</th>\n",
       "      <td>133488</td>\n",
       "      <td>['email', 'phone', 'facebook', 'reviews', 'jum...</td>\n",
       "    </tr>\n",
       "    <tr>\n",
       "      <th>6</th>\n",
       "      <td>178515</td>\n",
       "      <td>['email', 'phone', 'facebook', 'reviews', 'jum...</td>\n",
       "    </tr>\n",
       "    <tr>\n",
       "      <th>7</th>\n",
       "      <td>187580</td>\n",
       "      <td>None</td>\n",
       "    </tr>\n",
       "    <tr>\n",
       "      <th>8</th>\n",
       "      <td>188098</td>\n",
       "      <td>['email', 'phone', 'facebook', 'reviews', 'jum...</td>\n",
       "    </tr>\n",
       "    <tr>\n",
       "      <th>9</th>\n",
       "      <td>65041</td>\n",
       "      <td>['email', 'phone', 'reviews']</td>\n",
       "    </tr>\n",
       "    <tr>\n",
       "      <th>10</th>\n",
       "      <td>207342</td>\n",
       "      <td>['email', 'phone', 'facebook', 'reviews', 'jum...</td>\n",
       "    </tr>\n",
       "    <tr>\n",
       "      <th>11</th>\n",
       "      <td>211696</td>\n",
       "      <td>['email', 'phone', 'facebook', 'reviews', 'jum...</td>\n",
       "    </tr>\n",
       "    <tr>\n",
       "      <th>12</th>\n",
       "      <td>219080</td>\n",
       "      <td>['email', 'phone', 'facebook', 'reviews']</td>\n",
       "    </tr>\n",
       "    <tr>\n",
       "      <th>13</th>\n",
       "      <td>225987</td>\n",
       "      <td>['email', 'phone', 'google', 'reviews', 'jumio...</td>\n",
       "    </tr>\n",
       "    <tr>\n",
       "      <th>14</th>\n",
       "      <td>231864</td>\n",
       "      <td>['email', 'phone', 'reviews', 'jumio']</td>\n",
       "    </tr>\n",
       "  </tbody>\n",
       "</table>\n",
       "</div>"
      ],
      "text/plain": [
       "    host_id                                 host_verifications\n",
       "0      3159  ['email', 'phone', 'reviews', 'jumio', 'offlin...\n",
       "1     59484  ['email', 'phone', 'reviews', 'jumio', 'offlin...\n",
       "2     56142                      ['email', 'phone', 'reviews']\n",
       "3     97647             ['email', 'phone', 'reviews', 'jumio']\n",
       "4    124245             ['email', 'phone', 'reviews', 'jumio']\n",
       "5    133488  ['email', 'phone', 'facebook', 'reviews', 'jum...\n",
       "6    178515  ['email', 'phone', 'facebook', 'reviews', 'jum...\n",
       "7    187580                                               None\n",
       "8    188098  ['email', 'phone', 'facebook', 'reviews', 'jum...\n",
       "9     65041                      ['email', 'phone', 'reviews']\n",
       "10   207342  ['email', 'phone', 'facebook', 'reviews', 'jum...\n",
       "11   211696  ['email', 'phone', 'facebook', 'reviews', 'jum...\n",
       "12   219080          ['email', 'phone', 'facebook', 'reviews']\n",
       "13   225987  ['email', 'phone', 'google', 'reviews', 'jumio...\n",
       "14   231864             ['email', 'phone', 'reviews', 'jumio']"
      ]
     },
     "execution_count": 213,
     "metadata": {},
     "output_type": "execute_result"
    }
   ],
   "source": [
    "host_verification.head(15)"
   ]
  },
  {
   "cell_type": "markdown",
   "metadata": {},
   "source": [
    "Displaying the five first columns of the `host_verification` table allow us to know that for every host ID there are different identification items as email, phone, reviews, facebook, jumio (a verified identification feature that allows people scan and verify their goverment-issued photo ID) and more."
   ]
  },
  {
   "cell_type": "code",
   "execution_count": 215,
   "metadata": {},
   "outputs": [],
   "source": [
    "# print('Lenght of data before drop duplicates hosts ID: {}'.format(host_verification.shape[0]))\n",
    "# host_verification.drop_duplicates()\n",
    "# print('Lenght of data after drop duplicates hosts ID: {}'.format(host_verification.shape[0]))"
   ]
  },
  {
   "cell_type": "code",
   "execution_count": 236,
   "metadata": {},
   "outputs": [],
   "source": [
    "n = host_verification.shape[0]\n",
    "dict_verification = {}\n",
    "\n",
    "for i in range(n):\n",
    "    verification = host_verification.host_verifications[i]\n",
    "    if verification != 'None':\n",
    "        list_verification = verification.replace('[', '').replace(']', '').replace(\" \", \"\").split(',')\n",
    "        for j in list_verification:\n",
    "            if len(j) > 1:\n",
    "                if j in dict_verification.keys():\n",
    "                    dict_verification[j] += 1\n",
    "                else:\n",
    "                    dict_verification[j] = 1"
   ]
  },
  {
   "cell_type": "code",
   "execution_count": 237,
   "metadata": {},
   "outputs": [
    {
     "name": "stdout",
     "output_type": "stream",
     "text": [
      "email 16094\n",
      "phone 16880\n",
      "reviews 13556\n",
      "jumio 10653\n",
      "offline_government_id 4798\n",
      "selfie 3552\n",
      "government_id 5765\n",
      "identity_manual 3392\n",
      "facebook 4303\n",
      "work_email 2172\n",
      "google 649\n",
      "manual_offline 338\n",
      "manual_online 96\n",
      "sent_id 13\n",
      "kba 53\n",
      "weibo 3\n",
      "zhima_selfie 3\n",
      "sesame 1\n",
      "sesame_offline 1\n"
     ]
    }
   ],
   "source": [
    "for key, value in dict_verification.items():\n",
    "    print(key.replace(\"'\", \"\"), value)"
   ]
  },
  {
   "cell_type": "code",
   "execution_count": 244,
   "metadata": {},
   "outputs": [
    {
     "data": {
      "image/png": "[encoded data removed]",
      "text/plain": [
       "<Figure size 1440x720 with 1 Axes>"
      ]
     },
     "metadata": {},
     "output_type": "display_data"
    }
   ],
   "source": [
    "plt.figure(figsize=(20,10))\n",
    "_ = sns.barplot(x=list(dict_verification.keys()), y=list(dict_verification.values()), palette='pastel')"
   ]
  },
  {
   "cell_type": "code",
   "execution_count": 149,
   "metadata": {},
   "outputs": [
    {
     "data": {
      "text/plain": [
       "17502"
      ]
     },
     "execution_count": 149,
     "metadata": {},
     "output_type": "execute_result"
    }
   ],
   "source": [
    "host_information.shape[0]"
   ]
  },
  {
   "cell_type": "markdown",
   "metadata": {},
   "source": [
    "1. General information. Create a summary in empty listings using the information in the rest of columns (description, space, experiences_offered, neighborhood overview, notes, transit, access, interaction, house_rules)\n",
    "2. Analisis of host: from 'host_id' to 'host_identity_verified'\n",
    "3. Analisis of neighborhood: from 'street' to 'is_location_exact'\n",
    "4. Details of property and conditions: from 'property_type' to ;maximum_nights_avg_ntm'\n",
    "\n",
    "2. Analisis of security checks: require guest profile picture, phone verification, cancellation policy, instant bookeable\n",
    "3. Neighborhood overview with respect to the demand (reviews, rating)\n",
    "4. Type of host: entire home, private rooms, shared rooms and guest perception of them (People prefer any of them in determine seasons, neighborhood, etc)"
   ]
  },
  {
   "cell_type": "code",
   "execution_count": 145,
   "metadata": {},
   "outputs": [],
   "source": [
    "#sns.distplot(listing_counts.index, kde=False)\n",
    "# _ = plt.hist(listing_counts.index, bins=30, facecolor='g', alpha=0.75)"
   ]
  },
  {
   "cell_type": "code",
   "execution_count": 92,
   "metadata": {},
   "outputs": [],
   "source": [
    "#host_information.loc[host_information['host_total_listings_count'] == 751]"
   ]
  }
 ],
 "metadata": {
  "kernelspec": {
   "display_name": "Python 3",
   "language": "python",
   "name": "python3"
  },
  "language_info": {
   "codemirror_mode": {
    "name": "ipython",
    "version": 3
   },
   "file_extension": ".py",
   "mimetype": "text/x-python",
   "name": "python",
   "nbconvert_exporter": "python",
   "pygments_lexer": "ipython3",
   "version": "3.7.1"
  }
 },
 "nbformat": 4,
 "nbformat_minor": 2
}
